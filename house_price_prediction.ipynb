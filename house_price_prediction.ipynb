{
 "cells": [
  {
   "cell_type": "code",
   "execution_count": 304,
   "id": "97ddc3f3",
   "metadata": {},
   "outputs": [],
   "source": [
    "import pandas as pd\n",
    "import numpy as np\n",
    "import matplotlib.pyplot as plt\n",
    "import seaborn as sns"
   ]
  },
  {
   "cell_type": "code",
   "execution_count": 305,
   "id": "0618371d",
   "metadata": {},
   "outputs": [
    {
     "name": "stdout",
     "output_type": "stream",
     "text": [
      "Data set has rows    : 7109\n",
      "Data set has columns : 22\n"
     ]
    },
    {
     "data": {
      "text/html": [
       "<div>\n",
       "<style scoped>\n",
       "    .dataframe tbody tr th:only-of-type {\n",
       "        vertical-align: middle;\n",
       "    }\n",
       "\n",
       "    .dataframe tbody tr th {\n",
       "        vertical-align: top;\n",
       "    }\n",
       "\n",
       "    .dataframe thead th {\n",
       "        text-align: right;\n",
       "    }\n",
       "</style>\n",
       "<table border=\"1\" class=\"dataframe\">\n",
       "  <thead>\n",
       "    <tr style=\"text-align: right;\">\n",
       "      <th></th>\n",
       "      <th>PRT_ID</th>\n",
       "      <th>AREA</th>\n",
       "      <th>INT_SQFT</th>\n",
       "      <th>DATE_SALE</th>\n",
       "      <th>DIST_MAINROAD</th>\n",
       "      <th>N_BEDROOM</th>\n",
       "      <th>N_BATHROOM</th>\n",
       "      <th>N_ROOM</th>\n",
       "      <th>SALE_COND</th>\n",
       "      <th>PARK_FACIL</th>\n",
       "      <th>...</th>\n",
       "      <th>UTILITY_AVAIL</th>\n",
       "      <th>STREET</th>\n",
       "      <th>MZZONE</th>\n",
       "      <th>QS_ROOMS</th>\n",
       "      <th>QS_BATHROOM</th>\n",
       "      <th>QS_BEDROOM</th>\n",
       "      <th>QS_OVERALL</th>\n",
       "      <th>REG_FEE</th>\n",
       "      <th>COMMIS</th>\n",
       "      <th>SALES_PRICE</th>\n",
       "    </tr>\n",
       "  </thead>\n",
       "  <tbody>\n",
       "    <tr>\n",
       "      <th>0</th>\n",
       "      <td>P03210</td>\n",
       "      <td>Karapakkam</td>\n",
       "      <td>1004</td>\n",
       "      <td>04-05-2011</td>\n",
       "      <td>131</td>\n",
       "      <td>1.0</td>\n",
       "      <td>1.0</td>\n",
       "      <td>3</td>\n",
       "      <td>AbNormal</td>\n",
       "      <td>Yes</td>\n",
       "      <td>...</td>\n",
       "      <td>AllPub</td>\n",
       "      <td>Paved</td>\n",
       "      <td>A</td>\n",
       "      <td>4.0</td>\n",
       "      <td>3.9</td>\n",
       "      <td>4.9</td>\n",
       "      <td>4.330</td>\n",
       "      <td>380000</td>\n",
       "      <td>144400</td>\n",
       "      <td>7600000</td>\n",
       "    </tr>\n",
       "    <tr>\n",
       "      <th>1</th>\n",
       "      <td>P09411</td>\n",
       "      <td>Anna Nagar</td>\n",
       "      <td>1986</td>\n",
       "      <td>19-12-2006</td>\n",
       "      <td>26</td>\n",
       "      <td>2.0</td>\n",
       "      <td>1.0</td>\n",
       "      <td>5</td>\n",
       "      <td>AbNormal</td>\n",
       "      <td>No</td>\n",
       "      <td>...</td>\n",
       "      <td>AllPub</td>\n",
       "      <td>Gravel</td>\n",
       "      <td>RH</td>\n",
       "      <td>4.9</td>\n",
       "      <td>4.2</td>\n",
       "      <td>2.5</td>\n",
       "      <td>3.765</td>\n",
       "      <td>760122</td>\n",
       "      <td>304049</td>\n",
       "      <td>21717770</td>\n",
       "    </tr>\n",
       "    <tr>\n",
       "      <th>2</th>\n",
       "      <td>P01812</td>\n",
       "      <td>Adyar</td>\n",
       "      <td>909</td>\n",
       "      <td>04-02-2012</td>\n",
       "      <td>70</td>\n",
       "      <td>1.0</td>\n",
       "      <td>1.0</td>\n",
       "      <td>3</td>\n",
       "      <td>AbNormal</td>\n",
       "      <td>Yes</td>\n",
       "      <td>...</td>\n",
       "      <td>ELO</td>\n",
       "      <td>Gravel</td>\n",
       "      <td>RL</td>\n",
       "      <td>4.1</td>\n",
       "      <td>3.8</td>\n",
       "      <td>2.2</td>\n",
       "      <td>3.090</td>\n",
       "      <td>421094</td>\n",
       "      <td>92114</td>\n",
       "      <td>13159200</td>\n",
       "    </tr>\n",
       "    <tr>\n",
       "      <th>3</th>\n",
       "      <td>P05346</td>\n",
       "      <td>Velachery</td>\n",
       "      <td>1855</td>\n",
       "      <td>13-03-2010</td>\n",
       "      <td>14</td>\n",
       "      <td>3.0</td>\n",
       "      <td>2.0</td>\n",
       "      <td>5</td>\n",
       "      <td>Family</td>\n",
       "      <td>No</td>\n",
       "      <td>...</td>\n",
       "      <td>NoSewr</td>\n",
       "      <td>Paved</td>\n",
       "      <td>I</td>\n",
       "      <td>4.7</td>\n",
       "      <td>3.9</td>\n",
       "      <td>3.6</td>\n",
       "      <td>4.010</td>\n",
       "      <td>356321</td>\n",
       "      <td>77042</td>\n",
       "      <td>9630290</td>\n",
       "    </tr>\n",
       "    <tr>\n",
       "      <th>4</th>\n",
       "      <td>P06210</td>\n",
       "      <td>Karapakkam</td>\n",
       "      <td>1226</td>\n",
       "      <td>05-10-2009</td>\n",
       "      <td>84</td>\n",
       "      <td>1.0</td>\n",
       "      <td>1.0</td>\n",
       "      <td>3</td>\n",
       "      <td>AbNormal</td>\n",
       "      <td>Yes</td>\n",
       "      <td>...</td>\n",
       "      <td>AllPub</td>\n",
       "      <td>Gravel</td>\n",
       "      <td>C</td>\n",
       "      <td>3.0</td>\n",
       "      <td>2.5</td>\n",
       "      <td>4.1</td>\n",
       "      <td>3.290</td>\n",
       "      <td>237000</td>\n",
       "      <td>74063</td>\n",
       "      <td>7406250</td>\n",
       "    </tr>\n",
       "  </tbody>\n",
       "</table>\n",
       "<p>5 rows × 22 columns</p>\n",
       "</div>"
      ],
      "text/plain": [
       "   PRT_ID        AREA  INT_SQFT   DATE_SALE  DIST_MAINROAD  N_BEDROOM  \\\n",
       "0  P03210  Karapakkam      1004  04-05-2011            131        1.0   \n",
       "1  P09411  Anna Nagar      1986  19-12-2006             26        2.0   \n",
       "2  P01812       Adyar       909  04-02-2012             70        1.0   \n",
       "3  P05346   Velachery      1855  13-03-2010             14        3.0   \n",
       "4  P06210  Karapakkam      1226  05-10-2009             84        1.0   \n",
       "\n",
       "   N_BATHROOM  N_ROOM SALE_COND PARK_FACIL  ... UTILITY_AVAIL  STREET MZZONE  \\\n",
       "0         1.0       3  AbNormal        Yes  ...        AllPub   Paved      A   \n",
       "1         1.0       5  AbNormal         No  ...        AllPub  Gravel     RH   \n",
       "2         1.0       3  AbNormal        Yes  ...           ELO  Gravel     RL   \n",
       "3         2.0       5    Family         No  ...       NoSewr    Paved      I   \n",
       "4         1.0       3  AbNormal        Yes  ...        AllPub  Gravel      C   \n",
       "\n",
       "  QS_ROOMS QS_BATHROOM  QS_BEDROOM  QS_OVERALL  REG_FEE  COMMIS  SALES_PRICE  \n",
       "0      4.0         3.9         4.9       4.330   380000  144400      7600000  \n",
       "1      4.9         4.2         2.5       3.765   760122  304049     21717770  \n",
       "2      4.1         3.8         2.2       3.090   421094   92114     13159200  \n",
       "3      4.7         3.9         3.6       4.010   356321   77042      9630290  \n",
       "4      3.0         2.5         4.1       3.290   237000   74063      7406250  \n",
       "\n",
       "[5 rows x 22 columns]"
      ]
     },
     "execution_count": 305,
     "metadata": {},
     "output_type": "execute_result"
    }
   ],
   "source": [
    "data=pd.read_csv(\"Chennai houseing sale.csv\")\n",
    "rows_count, columns_count = data.shape\n",
    "print(\"Data set has rows    :\",rows_count)\n",
    "print(\"Data set has columns :\",columns_count)\n",
    "data.head()"
   ]
  },
  {
   "cell_type": "code",
   "execution_count": 306,
   "id": "9bd2aaa6",
   "metadata": {},
   "outputs": [
    {
     "name": "stdout",
     "output_type": "stream",
     "text": [
      "Data set has rows                    : 7109\n",
      "After deleting duplicate values rows : 7056\n"
     ]
    }
   ],
   "source": [
    "data.drop_duplicates()\n",
    "duplicates=data.value_counts().sum()\n",
    "print(\"Data set has rows                    :\",rows_count)\n",
    "print(\"After deleting duplicate values rows :\",duplicates)"
   ]
  },
  {
   "cell_type": "code",
   "execution_count": 307,
   "id": "1ee4708e",
   "metadata": {},
   "outputs": [
    {
     "name": "stdout",
     "output_type": "stream",
     "text": [
      "PRT_ID            0\n",
      "AREA              0\n",
      "INT_SQFT          0\n",
      "DATE_SALE         0\n",
      "DIST_MAINROAD     0\n",
      "N_BEDROOM         1\n",
      "N_BATHROOM        5\n",
      "N_ROOM            0\n",
      "SALE_COND         0\n",
      "PARK_FACIL        0\n",
      "DATE_BUILD        0\n",
      "BUILDTYPE         0\n",
      "UTILITY_AVAIL     0\n",
      "STREET            0\n",
      "MZZONE            0\n",
      "QS_ROOMS          0\n",
      "QS_BATHROOM       0\n",
      "QS_BEDROOM        0\n",
      "QS_OVERALL       48\n",
      "REG_FEE           0\n",
      "COMMIS            0\n",
      "SALES_PRICE       0\n",
      "dtype: int64\n",
      "\n",
      "Data set has rows          : 7109\n",
      "Total null value rows        : 53\n",
      "Percentage of null value rows: 0.7455338303558868\n"
     ]
    }
   ],
   "source": [
    "null_value_each_columns=data.isnull().sum()\n",
    "unique_null_rows = data[data.isnull().any(axis=1)].drop_duplicates().shape[0]\n",
    "print(null_value_each_columns)\n",
    "print(\"\\nData set has rows          :\",rows_count)\n",
    "print(\"Total null value rows        :\",unique_null_rows)\n",
    "print(\"Percentage of null value rows:\",(unique_null_rows/rows_count)*100)"
   ]
  },
  {
   "cell_type": "code",
   "execution_count": 308,
   "id": "ad4ff8e2",
   "metadata": {},
   "outputs": [
    {
     "name": "stdout",
     "output_type": "stream",
     "text": [
      "Number of rows after null value removed: 7056\n"
     ]
    }
   ],
   "source": [
    "data.dropna(axis=0,inplace=True)\n",
    "rows_count=data.shape[0]\n",
    "print(\"Number of rows after null value removed:\",rows_count)"
   ]
  },
  {
   "cell_type": "code",
   "execution_count": 309,
   "id": "318c768b",
   "metadata": {},
   "outputs": [
    {
     "data": {
      "text/html": [
       "<div>\n",
       "<style scoped>\n",
       "    .dataframe tbody tr th:only-of-type {\n",
       "        vertical-align: middle;\n",
       "    }\n",
       "\n",
       "    .dataframe tbody tr th {\n",
       "        vertical-align: top;\n",
       "    }\n",
       "\n",
       "    .dataframe thead th {\n",
       "        text-align: right;\n",
       "    }\n",
       "</style>\n",
       "<table border=\"1\" class=\"dataframe\">\n",
       "  <thead>\n",
       "    <tr style=\"text-align: right;\">\n",
       "      <th></th>\n",
       "      <th>PRT_ID</th>\n",
       "      <th>AREA</th>\n",
       "      <th>INT_SQFT</th>\n",
       "      <th>DATE_SALE</th>\n",
       "      <th>DIST_MAINROAD</th>\n",
       "      <th>N_BEDROOM</th>\n",
       "      <th>N_BATHROOM</th>\n",
       "      <th>N_ROOM</th>\n",
       "      <th>SALE_COND</th>\n",
       "      <th>PARK_FACIL</th>\n",
       "      <th>...</th>\n",
       "      <th>UTILITY_AVAIL</th>\n",
       "      <th>STREET</th>\n",
       "      <th>MZZONE</th>\n",
       "      <th>QS_ROOMS</th>\n",
       "      <th>QS_BATHROOM</th>\n",
       "      <th>QS_BEDROOM</th>\n",
       "      <th>QS_OVERALL</th>\n",
       "      <th>REG_FEE</th>\n",
       "      <th>COMMIS</th>\n",
       "      <th>SALES_PRICE</th>\n",
       "    </tr>\n",
       "  </thead>\n",
       "  <tbody>\n",
       "    <tr>\n",
       "      <th>0</th>\n",
       "      <td>P03210</td>\n",
       "      <td>Karapakkam</td>\n",
       "      <td>1004</td>\n",
       "      <td>04-05-2011</td>\n",
       "      <td>131</td>\n",
       "      <td>1.0</td>\n",
       "      <td>1.0</td>\n",
       "      <td>3</td>\n",
       "      <td>AbNormal</td>\n",
       "      <td>Yes</td>\n",
       "      <td>...</td>\n",
       "      <td>AllPub</td>\n",
       "      <td>Paved</td>\n",
       "      <td>A</td>\n",
       "      <td>4.0</td>\n",
       "      <td>3.9</td>\n",
       "      <td>4.9</td>\n",
       "      <td>4.330</td>\n",
       "      <td>380000</td>\n",
       "      <td>144400</td>\n",
       "      <td>7600000</td>\n",
       "    </tr>\n",
       "    <tr>\n",
       "      <th>1</th>\n",
       "      <td>P09411</td>\n",
       "      <td>Anna Nagar</td>\n",
       "      <td>1986</td>\n",
       "      <td>19-12-2006</td>\n",
       "      <td>26</td>\n",
       "      <td>2.0</td>\n",
       "      <td>1.0</td>\n",
       "      <td>5</td>\n",
       "      <td>AbNormal</td>\n",
       "      <td>No</td>\n",
       "      <td>...</td>\n",
       "      <td>AllPub</td>\n",
       "      <td>Gravel</td>\n",
       "      <td>RH</td>\n",
       "      <td>4.9</td>\n",
       "      <td>4.2</td>\n",
       "      <td>2.5</td>\n",
       "      <td>3.765</td>\n",
       "      <td>760122</td>\n",
       "      <td>304049</td>\n",
       "      <td>21717770</td>\n",
       "    </tr>\n",
       "  </tbody>\n",
       "</table>\n",
       "<p>2 rows × 22 columns</p>\n",
       "</div>"
      ],
      "text/plain": [
       "   PRT_ID        AREA  INT_SQFT   DATE_SALE  DIST_MAINROAD  N_BEDROOM  \\\n",
       "0  P03210  Karapakkam      1004  04-05-2011            131        1.0   \n",
       "1  P09411  Anna Nagar      1986  19-12-2006             26        2.0   \n",
       "\n",
       "   N_BATHROOM  N_ROOM SALE_COND PARK_FACIL  ... UTILITY_AVAIL  STREET MZZONE  \\\n",
       "0         1.0       3  AbNormal        Yes  ...        AllPub   Paved      A   \n",
       "1         1.0       5  AbNormal         No  ...        AllPub  Gravel     RH   \n",
       "\n",
       "  QS_ROOMS QS_BATHROOM  QS_BEDROOM  QS_OVERALL  REG_FEE  COMMIS  SALES_PRICE  \n",
       "0      4.0         3.9         4.9       4.330   380000  144400      7600000  \n",
       "1      4.9         4.2         2.5       3.765   760122  304049     21717770  \n",
       "\n",
       "[2 rows x 22 columns]"
      ]
     },
     "execution_count": 309,
     "metadata": {},
     "output_type": "execute_result"
    }
   ],
   "source": [
    "data.head(2)"
   ]
  },
  {
   "cell_type": "code",
   "execution_count": 310,
   "id": "df7b5d0d",
   "metadata": {},
   "outputs": [
    {
     "data": {
      "text/html": [
       "<div>\n",
       "<style scoped>\n",
       "    .dataframe tbody tr th:only-of-type {\n",
       "        vertical-align: middle;\n",
       "    }\n",
       "\n",
       "    .dataframe tbody tr th {\n",
       "        vertical-align: top;\n",
       "    }\n",
       "\n",
       "    .dataframe thead th {\n",
       "        text-align: right;\n",
       "    }\n",
       "</style>\n",
       "<table border=\"1\" class=\"dataframe\">\n",
       "  <thead>\n",
       "    <tr style=\"text-align: right;\">\n",
       "      <th></th>\n",
       "      <th>INT_SQFT</th>\n",
       "      <th>DIST_MAINROAD</th>\n",
       "      <th>N_BEDROOM</th>\n",
       "      <th>N_BATHROOM</th>\n",
       "      <th>N_ROOM</th>\n",
       "      <th>QS_ROOMS</th>\n",
       "      <th>QS_BATHROOM</th>\n",
       "      <th>QS_BEDROOM</th>\n",
       "      <th>QS_OVERALL</th>\n",
       "      <th>REG_FEE</th>\n",
       "      <th>COMMIS</th>\n",
       "      <th>SALES_PRICE</th>\n",
       "    </tr>\n",
       "  </thead>\n",
       "  <tbody>\n",
       "    <tr>\n",
       "      <th>count</th>\n",
       "      <td>7056.000000</td>\n",
       "      <td>7056.000000</td>\n",
       "      <td>7056.000000</td>\n",
       "      <td>7056.000000</td>\n",
       "      <td>7056.000000</td>\n",
       "      <td>7056.000000</td>\n",
       "      <td>7056.000000</td>\n",
       "      <td>7056.000000</td>\n",
       "      <td>7056.000000</td>\n",
       "      <td>7056.000000</td>\n",
       "      <td>7056.000000</td>\n",
       "      <td>7.056000e+03</td>\n",
       "    </tr>\n",
       "    <tr>\n",
       "      <th>mean</th>\n",
       "      <td>1381.316752</td>\n",
       "      <td>99.569161</td>\n",
       "      <td>1.636621</td>\n",
       "      <td>1.213152</td>\n",
       "      <td>3.686650</td>\n",
       "      <td>3.517177</td>\n",
       "      <td>3.505896</td>\n",
       "      <td>3.485332</td>\n",
       "      <td>3.503389</td>\n",
       "      <td>376791.852608</td>\n",
       "      <td>140994.273384</td>\n",
       "      <td>1.088801e+07</td>\n",
       "    </tr>\n",
       "    <tr>\n",
       "      <th>std</th>\n",
       "      <td>457.860850</td>\n",
       "      <td>57.403870</td>\n",
       "      <td>0.803633</td>\n",
       "      <td>0.409563</td>\n",
       "      <td>1.020011</td>\n",
       "      <td>0.892141</td>\n",
       "      <td>0.897644</td>\n",
       "      <td>0.886814</td>\n",
       "      <td>0.527313</td>\n",
       "      <td>143109.581793</td>\n",
       "      <td>78774.465963</td>\n",
       "      <td>3.769081e+06</td>\n",
       "    </tr>\n",
       "    <tr>\n",
       "      <th>min</th>\n",
       "      <td>500.000000</td>\n",
       "      <td>0.000000</td>\n",
       "      <td>1.000000</td>\n",
       "      <td>1.000000</td>\n",
       "      <td>2.000000</td>\n",
       "      <td>2.000000</td>\n",
       "      <td>2.000000</td>\n",
       "      <td>2.000000</td>\n",
       "      <td>2.000000</td>\n",
       "      <td>71177.000000</td>\n",
       "      <td>5055.000000</td>\n",
       "      <td>2.156875e+06</td>\n",
       "    </tr>\n",
       "    <tr>\n",
       "      <th>25%</th>\n",
       "      <td>991.000000</td>\n",
       "      <td>50.000000</td>\n",
       "      <td>1.000000</td>\n",
       "      <td>1.000000</td>\n",
       "      <td>3.000000</td>\n",
       "      <td>2.700000</td>\n",
       "      <td>2.700000</td>\n",
       "      <td>2.700000</td>\n",
       "      <td>3.130000</td>\n",
       "      <td>272117.500000</td>\n",
       "      <td>84212.750000</td>\n",
       "      <td>8.266790e+06</td>\n",
       "    </tr>\n",
       "    <tr>\n",
       "      <th>50%</th>\n",
       "      <td>1369.500000</td>\n",
       "      <td>99.000000</td>\n",
       "      <td>1.000000</td>\n",
       "      <td>1.000000</td>\n",
       "      <td>4.000000</td>\n",
       "      <td>3.500000</td>\n",
       "      <td>3.500000</td>\n",
       "      <td>3.500000</td>\n",
       "      <td>3.500000</td>\n",
       "      <td>349444.500000</td>\n",
       "      <td>127640.500000</td>\n",
       "      <td>1.031922e+07</td>\n",
       "    </tr>\n",
       "    <tr>\n",
       "      <th>75%</th>\n",
       "      <td>1744.000000</td>\n",
       "      <td>148.000000</td>\n",
       "      <td>2.000000</td>\n",
       "      <td>1.000000</td>\n",
       "      <td>4.000000</td>\n",
       "      <td>4.300000</td>\n",
       "      <td>4.300000</td>\n",
       "      <td>4.300000</td>\n",
       "      <td>3.890000</td>\n",
       "      <td>451030.500000</td>\n",
       "      <td>184449.000000</td>\n",
       "      <td>1.298148e+07</td>\n",
       "    </tr>\n",
       "    <tr>\n",
       "      <th>max</th>\n",
       "      <td>2500.000000</td>\n",
       "      <td>200.000000</td>\n",
       "      <td>4.000000</td>\n",
       "      <td>2.000000</td>\n",
       "      <td>6.000000</td>\n",
       "      <td>5.000000</td>\n",
       "      <td>5.000000</td>\n",
       "      <td>5.000000</td>\n",
       "      <td>4.970000</td>\n",
       "      <td>983922.000000</td>\n",
       "      <td>495405.000000</td>\n",
       "      <td>2.366734e+07</td>\n",
       "    </tr>\n",
       "  </tbody>\n",
       "</table>\n",
       "</div>"
      ],
      "text/plain": [
       "          INT_SQFT  DIST_MAINROAD    N_BEDROOM   N_BATHROOM       N_ROOM  \\\n",
       "count  7056.000000    7056.000000  7056.000000  7056.000000  7056.000000   \n",
       "mean   1381.316752      99.569161     1.636621     1.213152     3.686650   \n",
       "std     457.860850      57.403870     0.803633     0.409563     1.020011   \n",
       "min     500.000000       0.000000     1.000000     1.000000     2.000000   \n",
       "25%     991.000000      50.000000     1.000000     1.000000     3.000000   \n",
       "50%    1369.500000      99.000000     1.000000     1.000000     4.000000   \n",
       "75%    1744.000000     148.000000     2.000000     1.000000     4.000000   \n",
       "max    2500.000000     200.000000     4.000000     2.000000     6.000000   \n",
       "\n",
       "          QS_ROOMS  QS_BATHROOM   QS_BEDROOM   QS_OVERALL        REG_FEE  \\\n",
       "count  7056.000000  7056.000000  7056.000000  7056.000000    7056.000000   \n",
       "mean      3.517177     3.505896     3.485332     3.503389  376791.852608   \n",
       "std       0.892141     0.897644     0.886814     0.527313  143109.581793   \n",
       "min       2.000000     2.000000     2.000000     2.000000   71177.000000   \n",
       "25%       2.700000     2.700000     2.700000     3.130000  272117.500000   \n",
       "50%       3.500000     3.500000     3.500000     3.500000  349444.500000   \n",
       "75%       4.300000     4.300000     4.300000     3.890000  451030.500000   \n",
       "max       5.000000     5.000000     5.000000     4.970000  983922.000000   \n",
       "\n",
       "              COMMIS   SALES_PRICE  \n",
       "count    7056.000000  7.056000e+03  \n",
       "mean   140994.273384  1.088801e+07  \n",
       "std     78774.465963  3.769081e+06  \n",
       "min      5055.000000  2.156875e+06  \n",
       "25%     84212.750000  8.266790e+06  \n",
       "50%    127640.500000  1.031922e+07  \n",
       "75%    184449.000000  1.298148e+07  \n",
       "max    495405.000000  2.366734e+07  "
      ]
     },
     "execution_count": 310,
     "metadata": {},
     "output_type": "execute_result"
    }
   ],
   "source": [
    "data.describe()"
   ]
  },
  {
   "cell_type": "code",
   "execution_count": 311,
   "id": "90632135",
   "metadata": {},
   "outputs": [],
   "source": [
    "from datetime import datetime\n",
    "data['DATE_OF_BUILD'] = pd.to_datetime(data['DATE_BUILD'], format='%d-%m-%Y',errors='coerce')\n",
    "data['DATE_OF_SALE'] = pd.to_datetime(data['DATE_SALE'], format='%d-%m-%Y',errors='coerce')\n",
    "data[\"AGE_oF_BUILDING\"]=(data[\"DATE_OF_SALE\"]-data[\"DATE_OF_BUILD\"]).dt.days // 365\n",
    "data[\"REG_FEE_PERCENTAGE\"]=(data[\"REG_FEE\"]/data[\"SALES_PRICE\"])*100"
   ]
  },
  {
   "cell_type": "code",
   "execution_count": 312,
   "id": "fadc0a6e",
   "metadata": {},
   "outputs": [],
   "source": [
    "# Assuming 'column_name' is the column containing the misspelled words\n",
    "corrections = {'Noo': 'No'}\n",
    "data['PARK_FACIL'].replace(corrections, inplace=True)\n",
    "\n",
    "corrections = {'Comercial': 'Commercial',\"Others\":\"Other\"}\n",
    "data['BUILDTYPE'].replace(corrections, inplace=True)"
   ]
  },
  {
   "cell_type": "code",
   "execution_count": 313,
   "id": "4988c6ef",
   "metadata": {},
   "outputs": [
    {
     "data": {
      "text/plain": [
       "Index(['PRT_ID', 'AREA', 'INT_SQFT', 'DATE_SALE', 'DIST_MAINROAD', 'N_BEDROOM',\n",
       "       'N_BATHROOM', 'N_ROOM', 'SALE_COND', 'PARK_FACIL', 'DATE_BUILD',\n",
       "       'BUILDTYPE', 'UTILITY_AVAIL', 'STREET', 'MZZONE', 'QS_ROOMS',\n",
       "       'QS_BATHROOM', 'QS_BEDROOM', 'QS_OVERALL', 'REG_FEE', 'COMMIS',\n",
       "       'SALES_PRICE', 'DATE_OF_BUILD', 'DATE_OF_SALE', 'AGE_oF_BUILDING',\n",
       "       'REG_FEE_PERCENTAGE'],\n",
       "      dtype='object')"
      ]
     },
     "execution_count": 313,
     "metadata": {},
     "output_type": "execute_result"
    }
   ],
   "source": [
    "data.columns"
   ]
  },
  {
   "cell_type": "code",
   "execution_count": 314,
   "id": "45a4d50c",
   "metadata": {},
   "outputs": [],
   "source": [
    "col=['PRT_ID', 'AREA',  'DATE_SALE', 'DIST_MAINROAD', \n",
    "         'SALE_COND',  'DATE_BUILD',\n",
    "       'UTILITY_AVAIL', 'STREET', 'MZZONE', 'QS_ROOMS',\n",
    "       'QS_BATHROOM', 'QS_BEDROOM', 'QS_OVERALL', 'REG_FEE', 'COMMIS',\n",
    "        'DATE_OF_BUILD', 'DATE_OF_SALE', \n",
    "       ]"
   ]
  },
  {
   "cell_type": "code",
   "execution_count": 315,
   "id": "94a605f6",
   "metadata": {},
   "outputs": [
    {
     "data": {
      "text/html": [
       "<div>\n",
       "<style scoped>\n",
       "    .dataframe tbody tr th:only-of-type {\n",
       "        vertical-align: middle;\n",
       "    }\n",
       "\n",
       "    .dataframe tbody tr th {\n",
       "        vertical-align: top;\n",
       "    }\n",
       "\n",
       "    .dataframe thead th {\n",
       "        text-align: right;\n",
       "    }\n",
       "</style>\n",
       "<table border=\"1\" class=\"dataframe\">\n",
       "  <thead>\n",
       "    <tr style=\"text-align: right;\">\n",
       "      <th></th>\n",
       "      <th>INT_SQFT</th>\n",
       "      <th>N_BEDROOM</th>\n",
       "      <th>N_BATHROOM</th>\n",
       "      <th>N_ROOM</th>\n",
       "      <th>PARK_FACIL</th>\n",
       "      <th>BUILDTYPE</th>\n",
       "      <th>SALES_PRICE</th>\n",
       "      <th>AGE_oF_BUILDING</th>\n",
       "      <th>REG_FEE_PERCENTAGE</th>\n",
       "    </tr>\n",
       "  </thead>\n",
       "  <tbody>\n",
       "    <tr>\n",
       "      <th>0</th>\n",
       "      <td>1004</td>\n",
       "      <td>1.0</td>\n",
       "      <td>1.0</td>\n",
       "      <td>3</td>\n",
       "      <td>Yes</td>\n",
       "      <td>Commercial</td>\n",
       "      <td>7600000</td>\n",
       "      <td>44</td>\n",
       "      <td>5.000000</td>\n",
       "    </tr>\n",
       "    <tr>\n",
       "      <th>1</th>\n",
       "      <td>1986</td>\n",
       "      <td>2.0</td>\n",
       "      <td>1.0</td>\n",
       "      <td>5</td>\n",
       "      <td>No</td>\n",
       "      <td>Commercial</td>\n",
       "      <td>21717770</td>\n",
       "      <td>11</td>\n",
       "      <td>3.500000</td>\n",
       "    </tr>\n",
       "    <tr>\n",
       "      <th>2</th>\n",
       "      <td>909</td>\n",
       "      <td>1.0</td>\n",
       "      <td>1.0</td>\n",
       "      <td>3</td>\n",
       "      <td>Yes</td>\n",
       "      <td>Commercial</td>\n",
       "      <td>13159200</td>\n",
       "      <td>20</td>\n",
       "      <td>3.199997</td>\n",
       "    </tr>\n",
       "    <tr>\n",
       "      <th>3</th>\n",
       "      <td>1855</td>\n",
       "      <td>3.0</td>\n",
       "      <td>2.0</td>\n",
       "      <td>5</td>\n",
       "      <td>No</td>\n",
       "      <td>Other</td>\n",
       "      <td>9630290</td>\n",
       "      <td>22</td>\n",
       "      <td>3.700003</td>\n",
       "    </tr>\n",
       "    <tr>\n",
       "      <th>4</th>\n",
       "      <td>1226</td>\n",
       "      <td>1.0</td>\n",
       "      <td>1.0</td>\n",
       "      <td>3</td>\n",
       "      <td>Yes</td>\n",
       "      <td>Other</td>\n",
       "      <td>7406250</td>\n",
       "      <td>30</td>\n",
       "      <td>3.200000</td>\n",
       "    </tr>\n",
       "  </tbody>\n",
       "</table>\n",
       "</div>"
      ],
      "text/plain": [
       "   INT_SQFT  N_BEDROOM  N_BATHROOM  N_ROOM PARK_FACIL   BUILDTYPE  \\\n",
       "0      1004        1.0         1.0       3        Yes  Commercial   \n",
       "1      1986        2.0         1.0       5         No  Commercial   \n",
       "2       909        1.0         1.0       3        Yes  Commercial   \n",
       "3      1855        3.0         2.0       5         No       Other   \n",
       "4      1226        1.0         1.0       3        Yes       Other   \n",
       "\n",
       "   SALES_PRICE  AGE_oF_BUILDING  REG_FEE_PERCENTAGE  \n",
       "0      7600000               44            5.000000  \n",
       "1     21717770               11            3.500000  \n",
       "2     13159200               20            3.199997  \n",
       "3      9630290               22            3.700003  \n",
       "4      7406250               30            3.200000  "
      ]
     },
     "execution_count": 315,
     "metadata": {},
     "output_type": "execute_result"
    }
   ],
   "source": [
    "data.drop(col, axis=1, inplace=True)\n",
    "data.head()"
   ]
  },
  {
   "cell_type": "code",
   "execution_count": 316,
   "id": "e417ec70",
   "metadata": {},
   "outputs": [
    {
     "data": {
      "image/png": "[encoded data removed]",
      "text/plain": [
       "<Figure size 640x480 with 1 Axes>"
      ]
     },
     "metadata": {},
     "output_type": "display_data"
    },
    {
     "data": {
      "text/plain": [
       "<Figure size 2000x1000 with 0 Axes>"
      ]
     },
     "metadata": {},
     "output_type": "display_data"
    }
   ],
   "source": [
    "data.boxplot()\n",
    "plt.xticks(rotation=45)\n",
    "plt.figure(figsize=(20,10))\n",
    "plt.show()"
   ]
  },
  {
   "cell_type": "code",
   "execution_count": 317,
   "id": "ac48238b",
   "metadata": {},
   "outputs": [
    {
     "data": {
      "image/png": "[encoded data removed]",
      "text/plain": [
       "<Figure size 640x480 with 1 Axes>"
      ]
     },
     "metadata": {},
     "output_type": "display_data"
    },
    {
     "data": {
      "text/plain": [
       "<Figure size 750x1500 with 0 Axes>"
      ]
     },
     "metadata": {},
     "output_type": "display_data"
    }
   ],
   "source": [
    "data[\"N_BEDROOM\"].hist()\n",
    "plt.figure(figsize=(7.5,15))\n",
    "plt.show()"
   ]
  },
  {
   "cell_type": "code",
   "execution_count": 318,
   "id": "b6cd7f0b",
   "metadata": {},
   "outputs": [
    {
     "data": {
      "image/png": "[encoded data removed]",
      "text/plain": [
       "<Figure size 640x480 with 1 Axes>"
      ]
     },
     "metadata": {},
     "output_type": "display_data"
    },
    {
     "data": {
      "text/plain": [
       "<Figure size 750x1500 with 0 Axes>"
      ]
     },
     "metadata": {},
     "output_type": "display_data"
    }
   ],
   "source": [
    "data[\"N_BATHROOM\"].hist()\n",
    "plt.figure(figsize=(7.5,15))\n",
    "plt.show()"
   ]
  },
  {
   "cell_type": "code",
   "execution_count": 319,
   "id": "e27417f6",
   "metadata": {},
   "outputs": [
    {
     "data": {
      "image/png": "[encoded data removed]",
      "text/plain": [
       "<Figure size 640x480 with 1 Axes>"
      ]
     },
     "metadata": {},
     "output_type": "display_data"
    },
    {
     "data": {
      "text/plain": [
       "<Figure size 750x1500 with 0 Axes>"
      ]
     },
     "metadata": {},
     "output_type": "display_data"
    }
   ],
   "source": [
    "data[\"N_ROOM\"].hist()\n",
    "plt.figure(figsize=(7.5,15))\n",
    "plt.show()"
   ]
  },
  {
   "cell_type": "code",
   "execution_count": 320,
   "id": "2f01ef39",
   "metadata": {},
   "outputs": [
    {
     "data": {
      "image/png": "[encoded data removed]",
      "text/plain": [
       "<Figure size 640x480 with 1 Axes>"
      ]
     },
     "metadata": {},
     "output_type": "display_data"
    },
    {
     "data": {
      "text/plain": [
       "<Figure size 750x1500 with 0 Axes>"
      ]
     },
     "metadata": {},
     "output_type": "display_data"
    }
   ],
   "source": [
    "data[\"SALES_PRICE\"].hist()\n",
    "plt.figure(figsize=(7.5,15))\n",
    "plt.show()"
   ]
  },
  {
   "cell_type": "code",
   "execution_count": 321,
   "id": "0b80ff86",
   "metadata": {},
   "outputs": [
    {
     "name": "stdout",
     "output_type": "stream",
     "text": [
      "Number of non-outlier rows: 6829\n"
     ]
    }
   ],
   "source": [
    "Q1 = data[\"SALES_PRICE\"].quantile(0.25)\n",
    "Q3 = data[\"SALES_PRICE\"].quantile(0.75)\n",
    "IQR = Q3 - Q1\n",
    "\n",
    "# Define the lower and upper bounds for outliers\n",
    "lower_bound = Q1 - 1.5 * IQR\n",
    "upper_bound = Q3 + 1.5 * IQR\n",
    "\n",
    "data = data[(data[\"SALES_PRICE\"] >= lower_bound) & (data[\"SALES_PRICE\"] <= upper_bound)].copy()\n",
    "\n",
    "# Print the number of non-outlier rows\n",
    "num_non_outliers = len(data)\n",
    "print(\"Number of non-outlier rows:\", num_non_outliers)"
   ]
  },
  {
   "cell_type": "code",
   "execution_count": 322,
   "id": "1f5728db",
   "metadata": {},
   "outputs": [
    {
     "data": {
      "text/plain": [
       "No     3417\n",
       "Yes    3412\n",
       "Name: PARK_FACIL, dtype: int64"
      ]
     },
     "execution_count": 322,
     "metadata": {},
     "output_type": "execute_result"
    }
   ],
   "source": [
    "data[\"PARK_FACIL\"].value_counts()"
   ]
  },
  {
   "cell_type": "code",
   "execution_count": 323,
   "id": "b27d40c2",
   "metadata": {},
   "outputs": [],
   "source": [
    "# Assuming 'data' is your DataFrame and 'column_name' is the column you want to encode\n",
    "column_name1 = 'PARK_FACIL'\n",
    "column_name2 = 'BUILDTYPE'\n",
    "# Define the mapping dictionary for label encoding\n",
    "label_mapping1 = {'Yes': 2,  'No': 1}\n",
    "label_mapping2 = {'Commercial': 3, 'House': 2, 'Other': 1}\n",
    "\n",
    "# Perform label encoding using map()\n",
    "data[\"PARK_FACIL\"] = data[\"PARK_FACIL\"].map(label_mapping1)\n",
    "data[\"BUILDTYPE\"] = data[\"BUILDTYPE\"].map(label_mapping2)"
   ]
  },
  {
   "cell_type": "code",
   "execution_count": 324,
   "id": "b6b6cfee",
   "metadata": {},
   "outputs": [
    {
     "data": {
      "text/html": [
       "<div>\n",
       "<style scoped>\n",
       "    .dataframe tbody tr th:only-of-type {\n",
       "        vertical-align: middle;\n",
       "    }\n",
       "\n",
       "    .dataframe tbody tr th {\n",
       "        vertical-align: top;\n",
       "    }\n",
       "\n",
       "    .dataframe thead th {\n",
       "        text-align: right;\n",
       "    }\n",
       "</style>\n",
       "<table border=\"1\" class=\"dataframe\">\n",
       "  <thead>\n",
       "    <tr style=\"text-align: right;\">\n",
       "      <th></th>\n",
       "      <th>INT_SQFT</th>\n",
       "      <th>N_BEDROOM</th>\n",
       "      <th>N_BATHROOM</th>\n",
       "      <th>N_ROOM</th>\n",
       "      <th>PARK_FACIL</th>\n",
       "      <th>BUILDTYPE</th>\n",
       "      <th>SALES_PRICE</th>\n",
       "      <th>AGE_oF_BUILDING</th>\n",
       "      <th>REG_FEE_PERCENTAGE</th>\n",
       "    </tr>\n",
       "  </thead>\n",
       "  <tbody>\n",
       "    <tr>\n",
       "      <th>0</th>\n",
       "      <td>1004</td>\n",
       "      <td>1.0</td>\n",
       "      <td>1.0</td>\n",
       "      <td>3</td>\n",
       "      <td>2</td>\n",
       "      <td>3</td>\n",
       "      <td>7600000</td>\n",
       "      <td>44</td>\n",
       "      <td>5.000000</td>\n",
       "    </tr>\n",
       "    <tr>\n",
       "      <th>2</th>\n",
       "      <td>909</td>\n",
       "      <td>1.0</td>\n",
       "      <td>1.0</td>\n",
       "      <td>3</td>\n",
       "      <td>2</td>\n",
       "      <td>3</td>\n",
       "      <td>13159200</td>\n",
       "      <td>20</td>\n",
       "      <td>3.199997</td>\n",
       "    </tr>\n",
       "  </tbody>\n",
       "</table>\n",
       "</div>"
      ],
      "text/plain": [
       "   INT_SQFT  N_BEDROOM  N_BATHROOM  N_ROOM  PARK_FACIL  BUILDTYPE  \\\n",
       "0      1004        1.0         1.0       3           2          3   \n",
       "2       909        1.0         1.0       3           2          3   \n",
       "\n",
       "   SALES_PRICE  AGE_oF_BUILDING  REG_FEE_PERCENTAGE  \n",
       "0      7600000               44            5.000000  \n",
       "2     13159200               20            3.199997  "
      ]
     },
     "execution_count": 324,
     "metadata": {},
     "output_type": "execute_result"
    }
   ],
   "source": [
    "data.head(2)"
   ]
  },
  {
   "cell_type": "code",
   "execution_count": 325,
   "id": "1fcade17",
   "metadata": {},
   "outputs": [
    {
     "data": {
      "image/png": "[encoded data removed]",
      "text/plain": [
       "<Figure size 1000x800 with 2 Axes>"
      ]
     },
     "metadata": {},
     "output_type": "display_data"
    }
   ],
   "source": [
    "corr_matrix = data.corr()\n",
    "\n",
    "# Plot the correlation matrix as a heatmap\n",
    "plt.figure(figsize=(10, 8))\n",
    "sns.heatmap(corr_matrix, annot=True, cmap='coolwarm')\n",
    "plt.title('Correlation Matrix')\n",
    "plt.show()"
   ]
  },
  {
   "cell_type": "code",
   "execution_count": null,
   "id": "f1cf5d40",
   "metadata": {},
   "outputs": [],
   "source": []
  },
  {
   "cell_type": "code",
   "execution_count": 327,
   "id": "4d9a9b3c",
   "metadata": {},
   "outputs": [],
   "source": [
    "X = data.drop('SALES_PRICE', axis = 1).values\n",
    "y = data[\"SALES_PRICE\"].values\n",
    "y=y.reshape(-1,1)"
   ]
  },
  {
   "cell_type": "code",
   "execution_count": 328,
   "id": "65abe6f0",
   "metadata": {},
   "outputs": [
    {
     "name": "stdout",
     "output_type": "stream",
     "text": [
      "Shape of X: (6829, 8)\n",
      "Shape of y: (6829, 1)\n"
     ]
    }
   ],
   "source": [
    "print(\"Shape of X:\",X.shape)\n",
    "print(\"Shape of y:\",y.shape)"
   ]
  },
  {
   "cell_type": "code",
   "execution_count": 329,
   "id": "7b1e57db",
   "metadata": {},
   "outputs": [],
   "source": [
    "from sklearn.model_selection import train_test_split\n",
    "X_train, X_test, y_train, y_test = train_test_split(X, y, test_size=0.2, random_state=42)\n",
    "X_train, X_val, y_train, y_val = train_test_split(X_train, y_train, test_size=0.10, random_state=42)\n"
   ]
  },
  {
   "cell_type": "code",
   "execution_count": 330,
   "id": "21bfff6e",
   "metadata": {},
   "outputs": [
    {
     "name": "stdout",
     "output_type": "stream",
     "text": [
      "shape of  X_train data (4916, 8)\n",
      "shape of  y_train data (4916, 1)\n",
      "shape of  X_test  data (1366, 8)\n",
      "shape of   y_test data (1366, 1)\n",
      "shape of  X_train data (547, 8)\n",
      "shape of  y_train data (547, 1)\n"
     ]
    }
   ],
   "source": [
    "print(\"shape of  X_train data\",X_train.shape)\n",
    "print(\"shape of  y_train data\",y_train.shape)\n",
    "print(\"shape of  X_test  data\",X_test.shape)\n",
    "print(\"shape of   y_test data\",y_test.shape)\n",
    "print(\"shape of  X_train data\",X_val.shape)\n",
    "print(\"shape of  y_train data\",y_val.shape)"
   ]
  },
  {
   "cell_type": "code",
   "execution_count": 331,
   "id": "6391cd69",
   "metadata": {},
   "outputs": [],
   "source": [
    "from sklearn.preprocessing import StandardScaler\n",
    "\n",
    "scaler = StandardScaler()\n",
    "\n",
    "X_train = scaler.fit_transform(X_train)\n",
    "\n",
    "X_val= scaler.transform(X_val)\n",
    "X_test = scaler.transform(X_test)"
   ]
  },
  {
   "cell_type": "code",
   "execution_count": 332,
   "id": "197de18c",
   "metadata": {},
   "outputs": [],
   "source": [
    "from sklearn.linear_model import LinearRegression\n",
    "from sklearn.model_selection import train_test_split, cross_val_predict\n",
    "from sklearn.metrics import mean_squared_error, r2_score"
   ]
  },
  {
   "cell_type": "code",
   "execution_count": 333,
   "id": "3bb5b6de",
   "metadata": {},
   "outputs": [],
   "source": [
    "regression_model = LinearRegression()"
   ]
  },
  {
   "cell_type": "code",
   "execution_count": 334,
   "id": "de8b69b4",
   "metadata": {},
   "outputs": [
    {
     "data": {
      "text/plain": [
       "LinearRegression()"
      ]
     },
     "execution_count": 334,
     "metadata": {},
     "output_type": "execute_result"
    }
   ],
   "source": [
    "regression_model.fit(X_train, y_train)"
   ]
  },
  {
   "cell_type": "code",
   "execution_count": 335,
   "id": "53364232",
   "metadata": {},
   "outputs": [],
   "source": [
    "y_pred_val = regression_model.predict(X_val)\n",
    "y_pred_test = regression_model.predict(X_test)"
   ]
  },
  {
   "cell_type": "code",
   "execution_count": 336,
   "id": "efc95f5d",
   "metadata": {},
   "outputs": [],
   "source": [
    "cv_predictions = cross_val_predict(regression_model, X_train, y_train, cv=5)"
   ]
  },
  {
   "cell_type": "code",
   "execution_count": 337,
   "id": "ed82d3e1",
   "metadata": {},
   "outputs": [],
   "source": [
    "r2_val = r2_score(y_val, y_pred_val)\n",
    "\n",
    "# Calculate R-squared for the test predictions\n",
    "r2_test = r2_score(y_test, y_pred_test)\n",
    "\n",
    "# Calculate R-squared for the cross-validation predictions\n",
    "r2_cv = r2_score(y_train, cv_predictions)"
   ]
  },
  {
   "cell_type": "code",
   "execution_count": 338,
   "id": "14e6b25b",
   "metadata": {},
   "outputs": [
    {
     "name": "stdout",
     "output_type": "stream",
     "text": [
      "   Validation R-squared  Test R-squared  CV R-squared\n",
      "0              0.664037        0.674528      0.684463\n"
     ]
    }
   ],
   "source": [
    "r2_df = pd.DataFrame({\n",
    "    'Validation R-squared': [r2_val],\n",
    "    'Test R-squared': [r2_test],\n",
    "    'CV R-squared': [r2_cv]\n",
    "})\n",
    "\n",
    "# Print the R-squared dataframe\n",
    "print(r2_df)"
   ]
  },
  {
   "cell_type": "code",
   "execution_count": 339,
   "id": "5fa34deb",
   "metadata": {},
   "outputs": [
    {
     "data": {
      "text/plain": [
       "array([[ 1448483.66825809, -1207279.50414643,  -330649.60605704,\n",
       "         1953552.06812925,   495884.82067301,  1391347.45898384,\n",
       "         -408632.13791321,  -511562.72049628]])"
      ]
     },
     "execution_count": 339,
     "metadata": {},
     "output_type": "execute_result"
    }
   ],
   "source": [
    "feature_coefficients = regression_model.coef_\n",
    "feature_coefficients"
   ]
  },
  {
   "cell_type": "code",
   "execution_count": 340,
   "id": "2e72c898",
   "metadata": {},
   "outputs": [],
   "source": [
    "from sklearn.ensemble import RandomForestRegressor\n",
    "from sklearn.model_selection import train_test_split, cross_val_score\n",
    "from sklearn.metrics import mean_squared_error, r2_score"
   ]
  },
  {
   "cell_type": "code",
   "execution_count": 341,
   "id": "a0c6ab3a",
   "metadata": {},
   "outputs": [
    {
     "name": "stderr",
     "output_type": "stream",
     "text": [
      "C:\\Users\\Vaidees\\AppData\\Local\\Temp\\ipykernel_14676\\2559143952.py:2: DataConversionWarning: A column-vector y was passed when a 1d array was expected. Please change the shape of y to (n_samples,), for example using ravel().\n",
      "  random_forest_model.fit(X_train, y_train)\n"
     ]
    }
   ],
   "source": [
    "random_forest_model = RandomForestRegressor(n_estimators=100, max_depth=5, random_state=42)\n",
    "random_forest_model.fit(X_train, y_train)\n",
    "y_train = y_train.ravel()"
   ]
  },
  {
   "cell_type": "code",
   "execution_count": 342,
   "id": "f73054bd",
   "metadata": {},
   "outputs": [],
   "source": [
    "y_pred_val = random_forest_model.predict(X_val)\n",
    "\n",
    "# Predict on the test set\n",
    "y_pred_test = random_forest_model.predict(X_test)\n",
    "\n",
    "# Perform cross-validation on the training set\n",
    "cv_scores = cross_val_score(random_forest_model, X_train, y_train, cv=5)"
   ]
  },
  {
   "cell_type": "code",
   "execution_count": 343,
   "id": "e593098a",
   "metadata": {},
   "outputs": [],
   "source": [
    "r2_val = r2_score(y_val, y_pred_val)\n",
    "r2_test = r2_score(y_test, y_pred_test)"
   ]
  },
  {
   "cell_type": "code",
   "execution_count": 344,
   "id": "6f85a58a",
   "metadata": {},
   "outputs": [
    {
     "name": "stdout",
     "output_type": "stream",
     "text": [
      "   Validation R-squared  Test R-squared  CV Mean Score\n",
      "0              0.808482        0.836312       0.837474\n"
     ]
    }
   ],
   "source": [
    "evaluation_df = pd.DataFrame({\n",
    "    \n",
    "    'Validation R-squared': [r2_val],\n",
    "    \n",
    "    'Test R-squared': [r2_test],\n",
    "    'CV Mean Score': [cv_scores.mean()],\n",
    "    \n",
    "})\n",
    "\n",
    "# Print the evaluation dataframe\n",
    "print(evaluation_df)"
   ]
  },
  {
   "cell_type": "code",
   "execution_count": 345,
   "id": "63b0adaf",
   "metadata": {},
   "outputs": [
    {
     "name": "stdout",
     "output_type": "stream",
     "text": [
      "Feature 1: 0.4339221764870725\n",
      "Feature 2: 0.07532146102427023\n",
      "Feature 3: 0.011910296118580806\n",
      "Feature 4: 0.10268319075789606\n",
      "Feature 5: 0.007942361243114803\n",
      "Feature 6: 0.3259834277454301\n",
      "Feature 7: 0.009500774898735628\n",
      "Feature 8: 0.032736311724899964\n"
     ]
    }
   ],
   "source": [
    "# Get feature importances\n",
    "feature_importances = random_forest_model.feature_importances_\n",
    "# Print feature importances with feature indices\n",
    "for i, importance in enumerate(feature_importances):\n",
    "    print(f\"Feature {i+1}: {importance}\")"
   ]
  },
  {
   "cell_type": "code",
   "execution_count": 346,
   "id": "439dcb2f",
   "metadata": {},
   "outputs": [
    {
     "name": "stdout",
     "output_type": "stream",
     "text": [
      "   Validation R-squared  Test R-squared  CV Mean Score\n",
      "0              0.664025        0.674538       0.684285\n"
     ]
    }
   ],
   "source": [
    "import pandas as pd\n",
    "from sklearn.linear_model import Ridge\n",
    "from sklearn.model_selection import train_test_split, cross_val_score\n",
    "from sklearn.metrics import mean_squared_error, r2_score\n",
    "from sklearn.preprocessing import StandardScaler\n",
    "\n",
    "# Assume we have feature matrix X and target variable y\n",
    "\n",
    "# Split the data into train, validation, and test sets\n",
    "X_train, X_test, y_train, y_test = train_test_split(X, y, test_size=0.2, random_state=42)\n",
    "X_train, X_val, y_train, y_val = train_test_split(X_train, y_train, test_size=0.1, random_state=42)\n",
    "\n",
    "# Reshape y_train to 1-dimensional array\n",
    "y_train = y_train.ravel()\n",
    "\n",
    "# Create an instance of the Ridge model\n",
    "ridge_model = Ridge(\n",
    "    alpha=1.0,  # Regularization strength, adjust as needed\n",
    "      # Solver for optimization ('auto', 'svd', 'cholesky', 'lsqr', 'sparse_cg', 'sag', 'saga')\n",
    "    random_state=42,  # Random state for reproducibility\n",
    ")\n",
    "\n",
    "# Fit the model on the training data\n",
    "ridge_model.fit(X_train, y_train)\n",
    "\n",
    "# Predict on the validation set\n",
    "y_pred_val = ridge_model.predict(X_val)\n",
    "\n",
    "# Predict on the test set\n",
    "y_pred_test = ridge_model.predict(X_test)\n",
    "\n",
    "# Perform cross-validation on the training set\n",
    "cv_scores = cross_val_score(ridge_model, X_train, y_train, cv=5)\n",
    "\n",
    "# Calculate evaluation metrics for the validation set\n",
    "r2_val = r2_score(y_val, y_pred_val)\n",
    "\n",
    "# Calculate evaluation metrics for the test set\n",
    "r2_test = r2_score(y_test, y_pred_test)\n",
    "\n",
    "# Create a dataframe to store the evaluation metrics\n",
    "evaluation_df = pd.DataFrame({\n",
    "    'Validation R-squared': [r2_val],\n",
    "    'Test R-squared': [r2_test],\n",
    "    'CV Mean Score': [cv_scores.mean()],\n",
    "})\n",
    "\n",
    "# Print the evaluation dataframe\n",
    "print(evaluation_df)\n"
   ]
  },
  {
   "cell_type": "code",
   "execution_count": 347,
   "id": "737bd18b",
   "metadata": {},
   "outputs": [
    {
     "name": "stdout",
     "output_type": "stream",
     "text": [
      "   Validation R-squared  Test R-squared  CV Mean Score\n",
      "0              0.876681         0.88387       0.888159\n"
     ]
    }
   ],
   "source": [
    "import pandas as pd\n",
    "import warnings\n",
    "from sklearn.ensemble import GradientBoostingRegressor\n",
    "from sklearn.model_selection import train_test_split, cross_val_score\n",
    "from sklearn.metrics import mean_squared_error, r2_score\n",
    "from sklearn.preprocessing import StandardScaler\n",
    "\n",
    "# Assume we have feature matrix X and target variable y\n",
    "\n",
    "# Split the data into train, validation, and test sets\n",
    "X_train, X_test, y_train, y_test = train_test_split(X, y, test_size=0.2, random_state=42)\n",
    "X_train, X_val, y_train, y_val = train_test_split(X_train, y_train, test_size=0.1, random_state=42)\n",
    "\n",
    "# Reshape y_train to 1-dimensional array\n",
    "y_train = y_train.ravel()\n",
    "\n",
    "# Create an instance of the GradientBoostingRegressor model\n",
    "gradient_boosting_model = GradientBoostingRegressor(\n",
    "   \n",
    "    learning_rate=0.1, \n",
    "    n_estimators=100, \n",
    "    subsample=1.0, \n",
    "    criterion='friedman_mse', \n",
    "    min_samples_split=2, \n",
    "    min_samples_leaf=1, \n",
    "    min_weight_fraction_leaf=0.0, \n",
    "    max_depth=3, \n",
    "    min_impurity_decrease=0.0, \n",
    "   \n",
    "    init=None, \n",
    "    random_state=42, \n",
    "    max_features=5, \n",
    "    alpha=0.9, \n",
    "    verbose=0, \n",
    "    max_leaf_nodes=None, \n",
    "    warm_start=False, \n",
    "    \n",
    "    validation_fraction=0.1, \n",
    "    n_iter_no_change=None, \n",
    "    tol=0.0001, \n",
    "    ccp_alpha=0.0\n",
    ")\n",
    "\n",
    "# Fit the model on the training data\n",
    "gradient_boosting_model.fit(X_train, y_train)\n",
    "\n",
    "\n",
    "# Predict on the validation set\n",
    "y_pred_val = gradient_boosting_model.predict(X_val)\n",
    "\n",
    "# Predict on the test set\n",
    "y_pred_test = gradient_boosting_model.predict(X_test)\n",
    "\n",
    "# Perform cross-validation on the training set\n",
    "cv_scores = cross_val_score(gradient_boosting_model, X_train, y_train, cv=5)\n",
    "\n",
    "# Calculate evaluation metrics for the validation set\n",
    "\n",
    "r2_val = r2_score(y_val, y_pred_val)\n",
    "\n",
    "# Calculate evaluation metrics for the test set\n",
    "\n",
    "r2_test = r2_score(y_test, y_pred_test)\n",
    "\n",
    "# Create a dataframe to store the evaluation metrics\n",
    "evaluation_df = pd.DataFrame({\n",
    "   \n",
    "    'Validation R-squared': [r2_val],\n",
    "    \n",
    "    'Test R-squared': [r2_test],\n",
    "    'CV Mean Score': [cv_scores.mean()],\n",
    "   \n",
    "})\n",
    "\n",
    "# Print the evaluation dataframe\n",
    "print(evaluation_df)\n"
   ]
  },
  {
   "cell_type": "code",
   "execution_count": 348,
   "id": "298d144d",
   "metadata": {},
   "outputs": [
    {
     "data": {
      "image/png": "[encoded data removed]",
      "text/plain": [
       "<Figure size 640x480 with 1 Axes>"
      ]
     },
     "metadata": {},
     "output_type": "display_data"
    }
   ],
   "source": [
    "import matplotlib.pyplot as plt\n",
    "\n",
    "# Plot the actual and predicted values on the same plot\n",
    "plt.scatter(y_val, y_pred_val, color='blue', label='Validation')\n",
    "plt.scatter(y_test, y_pred_test, color='red', label='Test')\n",
    "plt.xlabel('Actual')\n",
    "plt.ylabel('Predicted')\n",
    "plt.title('Actual vs Predicted')\n",
    "plt.legend()\n",
    "plt.show()\n"
   ]
  },
  {
   "cell_type": "code",
   "execution_count": 349,
   "id": "cf9b8471",
   "metadata": {},
   "outputs": [
    {
     "name": "stdout",
     "output_type": "stream",
     "text": [
      "[14332575.38417139]\n"
     ]
    }
   ],
   "source": [
    "# Example single data point\n",
    "new_data_point = pd.DataFrame({\n",
    "    'INT_SQFT': [1200],\n",
    "    'N_BEDROOM': [2.0],\n",
    "    'N_BATHROOM': [1.0],\n",
    "    'N_ROOM': [4],\n",
    "    'PARK_FACIL': ['Yes'],\n",
    "    'BUILDTYPE': ['Commercial'],\n",
    "    'AGE_oF_BUILDING': [5],\n",
    "    'REG_FEE_PERCENTAGE': [4.0]\n",
    "})\n",
    "\n",
    "# Apply the same transformations to the new data point\n",
    "new_data_point[\"PARK_FACIL\"] = new_data_point[\"PARK_FACIL\"].map(label_mapping1)\n",
    "new_data_point[\"BUILDTYPE\"] = new_data_point[\"BUILDTYPE\"].map(label_mapping2)\n",
    "\n",
    "# Convert the new data point to a NumPy array\n",
    "new_data_point_array = np.array(new_data_point)\n",
    "\n",
    "# Make prediction for the new data point\n",
    "new_prediction = gradient_boosting_model.predict(new_data_point_array)\n",
    "\n",
    "# Print the prediction\n",
    "print(new_prediction)\n"
   ]
  },
  {
   "cell_type": "code",
   "execution_count": null,
   "id": "c3853843",
   "metadata": {},
   "outputs": [],
   "source": []
  },
  {
   "cell_type": "code",
   "execution_count": null,
   "id": "2c2e0f7d",
   "metadata": {},
   "outputs": [],
   "source": []
  },
  {
   "cell_type": "code",
   "execution_count": null,
   "id": "0c4ad371",
   "metadata": {},
   "outputs": [],
   "source": []
  },
  {
   "cell_type": "code",
   "execution_count": null,
   "id": "fa3b872c",
   "metadata": {},
   "outputs": [],
   "source": []
  },
  {
   "cell_type": "code",
   "execution_count": null,
   "id": "584366d2",
   "metadata": {},
   "outputs": [],
   "source": []
  }
 ],
 "metadata": {
  "kernelspec": {
   "display_name": "Python 3 (ipykernel)",
   "language": "python",
   "name": "python3"
  },
  "language_info": {
   "codemirror_mode": {
    "name": "ipython",
    "version": 3
   },
   "file_extension": ".py",
   "mimetype": "text/x-python",
   "name": "python",
   "nbconvert_exporter": "python",
   "pygments_lexer": "ipython3",
   "version": "3.9.13"
  }
 },
 "nbformat": 4,
 "nbformat_minor": 5
}
