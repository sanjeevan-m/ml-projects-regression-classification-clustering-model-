{
 "cells": [
  {
   "cell_type": "code",
   "execution_count": 270,
   "id": "8f1450bd",
   "metadata": {},
   "outputs": [],
   "source": [
    "import pandas as pd \n",
    "import numpy as np\n",
    "import matplotlib.pyplot as plt\n",
    "import seaborn as sns\n",
    "from datetime import datetime"
   ]
  },
  {
   "cell_type": "code",
   "execution_count": 271,
   "id": "0bec137b",
   "metadata": {},
   "outputs": [
    {
     "data": {
      "text/html": [
       "<div>\n",
       "<style scoped>\n",
       "    .dataframe tbody tr th:only-of-type {\n",
       "        vertical-align: middle;\n",
       "    }\n",
       "\n",
       "    .dataframe tbody tr th {\n",
       "        vertical-align: top;\n",
       "    }\n",
       "\n",
       "    .dataframe thead th {\n",
       "        text-align: right;\n",
       "    }\n",
       "</style>\n",
       "<table border=\"1\" class=\"dataframe\">\n",
       "  <thead>\n",
       "    <tr style=\"text-align: right;\">\n",
       "      <th></th>\n",
       "      <th>Unnamed: 0</th>\n",
       "      <th>TOTAL_ORDERS</th>\n",
       "      <th>REVENUE</th>\n",
       "      <th>AVERAGE_ORDER_VALUE</th>\n",
       "      <th>CARRIAGE_REVENUE</th>\n",
       "      <th>AVERAGESHIPPING</th>\n",
       "      <th>FIRST_ORDER_DATE</th>\n",
       "      <th>LATEST_ORDER_DATE</th>\n",
       "      <th>AVGDAYSBETWEENORDERS</th>\n",
       "      <th>DAYSSINCELASTORDER</th>\n",
       "    </tr>\n",
       "  </thead>\n",
       "  <tbody>\n",
       "    <tr>\n",
       "      <th>0</th>\n",
       "      <td>22</td>\n",
       "      <td>124</td>\n",
       "      <td>11986.54</td>\n",
       "      <td>96.67</td>\n",
       "      <td>529.59</td>\n",
       "      <td>4.27</td>\n",
       "      <td>30-Dec-16</td>\n",
       "      <td>24-Oct-21</td>\n",
       "      <td>14.19</td>\n",
       "      <td>1</td>\n",
       "    </tr>\n",
       "    <tr>\n",
       "      <th>1</th>\n",
       "      <td>29</td>\n",
       "      <td>82</td>\n",
       "      <td>11025.96</td>\n",
       "      <td>134.46</td>\n",
       "      <td>97.92</td>\n",
       "      <td>1.19</td>\n",
       "      <td>31-Mar-18</td>\n",
       "      <td>24-Oct-21</td>\n",
       "      <td>15.89</td>\n",
       "      <td>1</td>\n",
       "    </tr>\n",
       "    <tr>\n",
       "      <th>2</th>\n",
       "      <td>83</td>\n",
       "      <td>43</td>\n",
       "      <td>7259.69</td>\n",
       "      <td>168.83</td>\n",
       "      <td>171.69</td>\n",
       "      <td>3.99</td>\n",
       "      <td>30-Nov-17</td>\n",
       "      <td>24-Oct-21</td>\n",
       "      <td>33.12</td>\n",
       "      <td>1</td>\n",
       "    </tr>\n",
       "    <tr>\n",
       "      <th>3</th>\n",
       "      <td>95</td>\n",
       "      <td>44</td>\n",
       "      <td>6992.27</td>\n",
       "      <td>158.92</td>\n",
       "      <td>92.82</td>\n",
       "      <td>2.11</td>\n",
       "      <td>09-Apr-19</td>\n",
       "      <td>24-Oct-21</td>\n",
       "      <td>21.11</td>\n",
       "      <td>1</td>\n",
       "    </tr>\n",
       "    <tr>\n",
       "      <th>4</th>\n",
       "      <td>124</td>\n",
       "      <td>55</td>\n",
       "      <td>6263.44</td>\n",
       "      <td>113.88</td>\n",
       "      <td>179.04</td>\n",
       "      <td>3.26</td>\n",
       "      <td>23-Oct-20</td>\n",
       "      <td>24-Oct-21</td>\n",
       "      <td>6.65</td>\n",
       "      <td>1</td>\n",
       "    </tr>\n",
       "    <tr>\n",
       "      <th>...</th>\n",
       "      <td>...</td>\n",
       "      <td>...</td>\n",
       "      <td>...</td>\n",
       "      <td>...</td>\n",
       "      <td>...</td>\n",
       "      <td>...</td>\n",
       "      <td>...</td>\n",
       "      <td>...</td>\n",
       "      <td>...</td>\n",
       "      <td>...</td>\n",
       "    </tr>\n",
       "    <tr>\n",
       "      <th>4995</th>\n",
       "      <td>173946</td>\n",
       "      <td>1</td>\n",
       "      <td>117.49</td>\n",
       "      <td>117.49</td>\n",
       "      <td>4.99</td>\n",
       "      <td>4.99</td>\n",
       "      <td>01-Apr-21</td>\n",
       "      <td>01-Apr-21</td>\n",
       "      <td>0.00</td>\n",
       "      <td>207</td>\n",
       "    </tr>\n",
       "    <tr>\n",
       "      <th>4996</th>\n",
       "      <td>173987</td>\n",
       "      <td>1</td>\n",
       "      <td>117.49</td>\n",
       "      <td>117.49</td>\n",
       "      <td>4.99</td>\n",
       "      <td>4.99</td>\n",
       "      <td>01-Apr-21</td>\n",
       "      <td>01-Apr-21</td>\n",
       "      <td>0.00</td>\n",
       "      <td>207</td>\n",
       "    </tr>\n",
       "    <tr>\n",
       "      <th>4997</th>\n",
       "      <td>174004</td>\n",
       "      <td>1</td>\n",
       "      <td>117.49</td>\n",
       "      <td>117.49</td>\n",
       "      <td>4.99</td>\n",
       "      <td>4.99</td>\n",
       "      <td>01-Apr-21</td>\n",
       "      <td>01-Apr-21</td>\n",
       "      <td>0.00</td>\n",
       "      <td>207</td>\n",
       "    </tr>\n",
       "    <tr>\n",
       "      <th>4998</th>\n",
       "      <td>174038</td>\n",
       "      <td>1</td>\n",
       "      <td>117.49</td>\n",
       "      <td>117.49</td>\n",
       "      <td>4.99</td>\n",
       "      <td>4.99</td>\n",
       "      <td>01-Apr-21</td>\n",
       "      <td>01-Apr-21</td>\n",
       "      <td>0.00</td>\n",
       "      <td>207</td>\n",
       "    </tr>\n",
       "    <tr>\n",
       "      <th>4999</th>\n",
       "      <td>200783</td>\n",
       "      <td>2</td>\n",
       "      <td>94.14</td>\n",
       "      <td>47.07</td>\n",
       "      <td>9.94</td>\n",
       "      <td>4.97</td>\n",
       "      <td>26-Jun-14</td>\n",
       "      <td>01-Apr-21</td>\n",
       "      <td>1235.50</td>\n",
       "      <td>207</td>\n",
       "    </tr>\n",
       "  </tbody>\n",
       "</table>\n",
       "<p>5000 rows × 10 columns</p>\n",
       "</div>"
      ],
      "text/plain": [
       "      Unnamed: 0  TOTAL_ORDERS   REVENUE  AVERAGE_ORDER_VALUE  \\\n",
       "0             22           124  11986.54                96.67   \n",
       "1             29            82  11025.96               134.46   \n",
       "2             83            43   7259.69               168.83   \n",
       "3             95            44   6992.27               158.92   \n",
       "4            124            55   6263.44               113.88   \n",
       "...          ...           ...       ...                  ...   \n",
       "4995      173946             1    117.49               117.49   \n",
       "4996      173987             1    117.49               117.49   \n",
       "4997      174004             1    117.49               117.49   \n",
       "4998      174038             1    117.49               117.49   \n",
       "4999      200783             2     94.14                47.07   \n",
       "\n",
       "      CARRIAGE_REVENUE  AVERAGESHIPPING FIRST_ORDER_DATE LATEST_ORDER_DATE  \\\n",
       "0               529.59             4.27        30-Dec-16         24-Oct-21   \n",
       "1                97.92             1.19        31-Mar-18         24-Oct-21   \n",
       "2               171.69             3.99        30-Nov-17         24-Oct-21   \n",
       "3                92.82             2.11        09-Apr-19         24-Oct-21   \n",
       "4               179.04             3.26        23-Oct-20         24-Oct-21   \n",
       "...                ...              ...              ...               ...   \n",
       "4995              4.99             4.99        01-Apr-21         01-Apr-21   \n",
       "4996              4.99             4.99        01-Apr-21         01-Apr-21   \n",
       "4997              4.99             4.99        01-Apr-21         01-Apr-21   \n",
       "4998              4.99             4.99        01-Apr-21         01-Apr-21   \n",
       "4999              9.94             4.97        26-Jun-14         01-Apr-21   \n",
       "\n",
       "      AVGDAYSBETWEENORDERS  DAYSSINCELASTORDER  \n",
       "0                    14.19                   1  \n",
       "1                    15.89                   1  \n",
       "2                    33.12                   1  \n",
       "3                    21.11                   1  \n",
       "4                     6.65                   1  \n",
       "...                    ...                 ...  \n",
       "4995                  0.00                 207  \n",
       "4996                  0.00                 207  \n",
       "4997                  0.00                 207  \n",
       "4998                  0.00                 207  \n",
       "4999               1235.50                 207  \n",
       "\n",
       "[5000 rows x 10 columns]"
      ]
     },
     "execution_count": 271,
     "metadata": {},
     "output_type": "execute_result"
    }
   ],
   "source": [
    "data=pd.read_csv(\"sales_data.csv\")\n",
    "data"
   ]
  },
  {
   "cell_type": "code",
   "execution_count": 272,
   "id": "acb4eb9a",
   "metadata": {},
   "outputs": [],
   "source": [
    "data.drop_duplicates(inplace=True)"
   ]
  },
  {
   "cell_type": "code",
   "execution_count": 273,
   "id": "2f6e2b0d",
   "metadata": {},
   "outputs": [
    {
     "data": {
      "text/plain": [
       "Unnamed: 0              0\n",
       "TOTAL_ORDERS            0\n",
       "REVENUE                 0\n",
       "AVERAGE_ORDER_VALUE     0\n",
       "CARRIAGE_REVENUE        0\n",
       "AVERAGESHIPPING         0\n",
       "FIRST_ORDER_DATE        0\n",
       "LATEST_ORDER_DATE       0\n",
       "AVGDAYSBETWEENORDERS    0\n",
       "DAYSSINCELASTORDER      0\n",
       "dtype: int64"
      ]
     },
     "execution_count": 273,
     "metadata": {},
     "output_type": "execute_result"
    }
   ],
   "source": [
    "data.isnull().sum()"
   ]
  },
  {
   "cell_type": "code",
   "execution_count": 274,
   "id": "f86ccf2a",
   "metadata": {
    "scrolled": true
   },
   "outputs": [
    {
     "name": "stdout",
     "output_type": "stream",
     "text": [
      "<class 'pandas.core.frame.DataFrame'>\n",
      "Int64Index: 5000 entries, 0 to 4999\n",
      "Data columns (total 10 columns):\n",
      " #   Column                Non-Null Count  Dtype  \n",
      "---  ------                --------------  -----  \n",
      " 0   Unnamed: 0            5000 non-null   int64  \n",
      " 1   TOTAL_ORDERS          5000 non-null   int64  \n",
      " 2   REVENUE               5000 non-null   float64\n",
      " 3   AVERAGE_ORDER_VALUE   5000 non-null   float64\n",
      " 4   CARRIAGE_REVENUE      5000 non-null   float64\n",
      " 5   AVERAGESHIPPING       5000 non-null   float64\n",
      " 6   FIRST_ORDER_DATE      5000 non-null   object \n",
      " 7   LATEST_ORDER_DATE     5000 non-null   object \n",
      " 8   AVGDAYSBETWEENORDERS  5000 non-null   float64\n",
      " 9   DAYSSINCELASTORDER    5000 non-null   int64  \n",
      "dtypes: float64(5), int64(3), object(2)\n",
      "memory usage: 429.7+ KB\n"
     ]
    }
   ],
   "source": [
    "data.info()"
   ]
  },
  {
   "cell_type": "code",
   "execution_count": 275,
   "id": "8fbf59af",
   "metadata": {},
   "outputs": [],
   "source": [
    "data['LATEST_ORDER_DATE'] = pd.to_datetime(data['LATEST_ORDER_DATE'])\n",
    "data['FIRST_ORDER_DATE'] = pd.to_datetime(data['FIRST_ORDER_DATE'])\n",
    "\n",
    "data[\"Number_year_customer\"] = data['LATEST_ORDER_DATE'].dt.year - data['FIRST_ORDER_DATE'].dt.year"
   ]
  },
  {
   "cell_type": "code",
   "execution_count": 276,
   "id": "253e4371",
   "metadata": {},
   "outputs": [],
   "source": [
    "col=[\"FIRST_ORDER_DATE\",\"LATEST_ORDER_DATE\",\"Unnamed: 0\",\"DAYSSINCELASTORDER\"]\n",
    "data.drop(col,axis=1,inplace=True)"
   ]
  },
  {
   "cell_type": "code",
   "execution_count": 277,
   "id": "cd7c8167",
   "metadata": {},
   "outputs": [
    {
     "data": {
      "text/html": [
       "<div>\n",
       "<style scoped>\n",
       "    .dataframe tbody tr th:only-of-type {\n",
       "        vertical-align: middle;\n",
       "    }\n",
       "\n",
       "    .dataframe tbody tr th {\n",
       "        vertical-align: top;\n",
       "    }\n",
       "\n",
       "    .dataframe thead th {\n",
       "        text-align: right;\n",
       "    }\n",
       "</style>\n",
       "<table border=\"1\" class=\"dataframe\">\n",
       "  <thead>\n",
       "    <tr style=\"text-align: right;\">\n",
       "      <th></th>\n",
       "      <th>TOTAL_ORDERS</th>\n",
       "      <th>REVENUE</th>\n",
       "      <th>AVERAGE_ORDER_VALUE</th>\n",
       "      <th>CARRIAGE_REVENUE</th>\n",
       "      <th>AVERAGESHIPPING</th>\n",
       "      <th>AVGDAYSBETWEENORDERS</th>\n",
       "      <th>Number_year_customer</th>\n",
       "    </tr>\n",
       "  </thead>\n",
       "  <tbody>\n",
       "    <tr>\n",
       "      <th>count</th>\n",
       "      <td>5000.00000</td>\n",
       "      <td>5000.000000</td>\n",
       "      <td>5000.000000</td>\n",
       "      <td>5000.000000</td>\n",
       "      <td>5000.000000</td>\n",
       "      <td>5000.000000</td>\n",
       "      <td>5000.000000</td>\n",
       "    </tr>\n",
       "    <tr>\n",
       "      <th>mean</th>\n",
       "      <td>12.87040</td>\n",
       "      <td>1681.523840</td>\n",
       "      <td>136.537378</td>\n",
       "      <td>46.036376</td>\n",
       "      <td>3.592574</td>\n",
       "      <td>163.159618</td>\n",
       "      <td>2.868800</td>\n",
       "    </tr>\n",
       "    <tr>\n",
       "      <th>std</th>\n",
       "      <td>12.67988</td>\n",
       "      <td>1998.618678</td>\n",
       "      <td>91.651569</td>\n",
       "      <td>47.879226</td>\n",
       "      <td>2.021360</td>\n",
       "      <td>259.699496</td>\n",
       "      <td>2.578937</td>\n",
       "    </tr>\n",
       "    <tr>\n",
       "      <th>min</th>\n",
       "      <td>1.00000</td>\n",
       "      <td>38.500000</td>\n",
       "      <td>10.680000</td>\n",
       "      <td>0.000000</td>\n",
       "      <td>0.000000</td>\n",
       "      <td>0.000000</td>\n",
       "      <td>0.000000</td>\n",
       "    </tr>\n",
       "    <tr>\n",
       "      <th>25%</th>\n",
       "      <td>3.00000</td>\n",
       "      <td>315.097500</td>\n",
       "      <td>83.025000</td>\n",
       "      <td>9.980000</td>\n",
       "      <td>2.500000</td>\n",
       "      <td>21.670000</td>\n",
       "      <td>1.000000</td>\n",
       "    </tr>\n",
       "    <tr>\n",
       "      <th>50%</th>\n",
       "      <td>8.00000</td>\n",
       "      <td>966.725000</td>\n",
       "      <td>113.160000</td>\n",
       "      <td>24.985000</td>\n",
       "      <td>3.660000</td>\n",
       "      <td>57.635000</td>\n",
       "      <td>2.000000</td>\n",
       "    </tr>\n",
       "    <tr>\n",
       "      <th>75%</th>\n",
       "      <td>20.00000</td>\n",
       "      <td>2493.072500</td>\n",
       "      <td>160.272500</td>\n",
       "      <td>76.862500</td>\n",
       "      <td>4.790000</td>\n",
       "      <td>170.357500</td>\n",
       "      <td>5.000000</td>\n",
       "    </tr>\n",
       "    <tr>\n",
       "      <th>max</th>\n",
       "      <td>156.00000</td>\n",
       "      <td>34847.400000</td>\n",
       "      <td>1578.880000</td>\n",
       "      <td>529.590000</td>\n",
       "      <td>35.990000</td>\n",
       "      <td>1409.500000</td>\n",
       "      <td>7.000000</td>\n",
       "    </tr>\n",
       "  </tbody>\n",
       "</table>\n",
       "</div>"
      ],
      "text/plain": [
       "       TOTAL_ORDERS       REVENUE  AVERAGE_ORDER_VALUE  CARRIAGE_REVENUE  \\\n",
       "count    5000.00000   5000.000000          5000.000000       5000.000000   \n",
       "mean       12.87040   1681.523840           136.537378         46.036376   \n",
       "std        12.67988   1998.618678            91.651569         47.879226   \n",
       "min         1.00000     38.500000            10.680000          0.000000   \n",
       "25%         3.00000    315.097500            83.025000          9.980000   \n",
       "50%         8.00000    966.725000           113.160000         24.985000   \n",
       "75%        20.00000   2493.072500           160.272500         76.862500   \n",
       "max       156.00000  34847.400000          1578.880000        529.590000   \n",
       "\n",
       "       AVERAGESHIPPING  AVGDAYSBETWEENORDERS  Number_year_customer  \n",
       "count      5000.000000           5000.000000           5000.000000  \n",
       "mean          3.592574            163.159618              2.868800  \n",
       "std           2.021360            259.699496              2.578937  \n",
       "min           0.000000              0.000000              0.000000  \n",
       "25%           2.500000             21.670000              1.000000  \n",
       "50%           3.660000             57.635000              2.000000  \n",
       "75%           4.790000            170.357500              5.000000  \n",
       "max          35.990000           1409.500000              7.000000  "
      ]
     },
     "execution_count": 277,
     "metadata": {},
     "output_type": "execute_result"
    }
   ],
   "source": [
    "data.describe()"
   ]
  },
  {
   "cell_type": "code",
   "execution_count": 278,
   "id": "dbb36517",
   "metadata": {},
   "outputs": [
    {
     "data": {
      "image/png": "[encoded data removed]",
      "text/plain": [
       "<Figure size 640x480 with 1 Axes>"
      ]
     },
     "metadata": {},
     "output_type": "display_data"
    }
   ],
   "source": [
    "data.boxplot()\n",
    "plt.xticks(rotation=45)\n",
    "plt.show()"
   ]
  },
  {
   "cell_type": "code",
   "execution_count": 279,
   "id": "0424cd81",
   "metadata": {},
   "outputs": [],
   "source": [
    "def remove_outliers_iqr(df):\n",
    "    Q1 = df.quantile(0.25)\n",
    "    Q3 = df.quantile(0.75)\n",
    "    IQR = Q3 - Q1\n",
    "\n",
    "    lower_bound = Q1 - 1.5 * IQR\n",
    "    upper_bound = Q3 + 1.5 * IQR\n",
    "\n",
    "    df_no_outliers = df[((df >= lower_bound) & (df <= upper_bound)).all(axis=1)]\n",
    "\n",
    "    return df_no_outliers\n"
   ]
  },
  {
   "cell_type": "code",
   "execution_count": 280,
   "id": "d6f9d99c",
   "metadata": {},
   "outputs": [
    {
     "data": {
      "text/plain": [
       "(3853, 7)"
      ]
     },
     "execution_count": 280,
     "metadata": {},
     "output_type": "execute_result"
    }
   ],
   "source": [
    "df = remove_outliers_iqr(data)\n",
    "df.shape"
   ]
  },
  {
   "cell_type": "code",
   "execution_count": 281,
   "id": "bccf5d2c",
   "metadata": {},
   "outputs": [
    {
     "data": {
      "text/plain": [
       "Index(['TOTAL_ORDERS', 'REVENUE', 'AVERAGE_ORDER_VALUE', 'CARRIAGE_REVENUE',\n",
       "       'AVERAGESHIPPING', 'AVGDAYSBETWEENORDERS', 'Number_year_customer'],\n",
       "      dtype='object')"
      ]
     },
     "execution_count": 281,
     "metadata": {},
     "output_type": "execute_result"
    }
   ],
   "source": [
    "df.columns"
   ]
  },
  {
   "cell_type": "code",
   "execution_count": 282,
   "id": "7df26727",
   "metadata": {},
   "outputs": [
    {
     "data": {
      "image/png": "[encoded data removed]",
      "text/plain": [
       "<Figure size 640x480 with 1 Axes>"
      ]
     },
     "metadata": {},
     "output_type": "display_data"
    }
   ],
   "source": [
    "import pandas as pd\n",
    "from sklearn.cluster import KMeans\n",
    "import matplotlib.pyplot as plt\n",
    "\n",
    "# Load the data frame\n",
    "# ...\n",
    "\n",
    "# Select the numerical columns for clustering\n",
    "columns_for_clustering = ['TOTAL_ORDERS', 'REVENUE', 'AVERAGE_ORDER_VALUE', 'CARRIAGE_REVENUE',\n",
    "                          'AVERAGESHIPPING', 'AVGDAYSBETWEENORDERS', 'Number_year_customer']\n",
    "\n",
    "# Compute SSE for different values of k\n",
    "sse = []\n",
    "for k in range(1, 11):\n",
    "    kmeans = KMeans(n_clusters=k)\n",
    "    kmeans.fit(df[columns_for_clustering])\n",
    "    sse.append(kmeans.inertia_)\n",
    "\n",
    "# Plot SSE values against k values\n",
    "plt.plot(range(1, 11), sse)\n",
    "plt.xlabel('Number of Clusters (k)')\n",
    "plt.ylabel('Sum of Squared Distances (SSE)')\n",
    "plt.title('Elbow Method')\n",
    "plt.show()\n"
   ]
  },
  {
   "cell_type": "code",
   "execution_count": 283,
   "id": "64c73a31",
   "metadata": {},
   "outputs": [
    {
     "name": "stdout",
     "output_type": "stream",
     "text": [
      "Silhouette score for k(clusters) = 2 is 0.6397224577251627\n",
      "Silhouette score for k(clusters) = 3 is 0.6298895263251385\n",
      "Silhouette score for k(clusters) = 4 is 0.6154645609273686\n",
      "Silhouette score for k(clusters) = 5 is 0.5797242263123937\n",
      "Silhouette score for k(clusters) = 6 is 0.550466259888206\n",
      "Silhouette score for k(clusters) = 7 is 0.5416828665007067\n",
      "Silhouette score for k(clusters) = 8 is 0.5217245159968068\n",
      "Silhouette score for k(clusters) = 9 is 0.487386198035563\n",
      "Silhouette score for k(clusters) = 10 is 0.4748447585742079\n",
      "Silhouette score for k(clusters) = 11 is 0.441169182347151\n",
      "Silhouette score for k(clusters) = 12 is 0.4140863590050867\n"
     ]
    }
   ],
   "source": [
    "import sklearn.metrics as metrics\n",
    "for i in range(2,13):\n",
    "    labels=cluster.KMeans(n_clusters=i,random_state=200).fit(df).labels_\n",
    "    print (\"Silhouette score for k(clusters) = \"+str(i)+\" is \"\n",
    "+str(metrics.silhouette_score(df,labels,metric=\"euclidean\",sample_size=1000,random_state=200)))"
   ]
  },
  {
   "cell_type": "code",
   "execution_count": 284,
   "id": "555cd503",
   "metadata": {},
   "outputs": [
    {
     "name": "stderr",
     "output_type": "stream",
     "text": [
      "C:\\Users\\Vaidees\\AppData\\Local\\Temp\\ipykernel_16068\\2325807807.py:9: SettingWithCopyWarning: \n",
      "A value is trying to be set on a copy of a slice from a DataFrame.\n",
      "Try using .loc[row_indexer,col_indexer] = value instead\n",
      "\n",
      "See the caveats in the documentation: https://pandas.pydata.org/pandas-docs/stable/user_guide/indexing.html#returning-a-view-versus-a-copy\n",
      "  df['Cluster'] = kmeans.labels_\n"
     ]
    },
    {
     "data": {
      "text/html": [
       "<div>\n",
       "<style scoped>\n",
       "    .dataframe tbody tr th:only-of-type {\n",
       "        vertical-align: middle;\n",
       "    }\n",
       "\n",
       "    .dataframe tbody tr th {\n",
       "        vertical-align: top;\n",
       "    }\n",
       "\n",
       "    .dataframe thead th {\n",
       "        text-align: right;\n",
       "    }\n",
       "</style>\n",
       "<table border=\"1\" class=\"dataframe\">\n",
       "  <thead>\n",
       "    <tr style=\"text-align: right;\">\n",
       "      <th></th>\n",
       "      <th>TOTAL_ORDERS</th>\n",
       "      <th>REVENUE</th>\n",
       "      <th>AVERAGE_ORDER_VALUE</th>\n",
       "      <th>CARRIAGE_REVENUE</th>\n",
       "      <th>AVERAGESHIPPING</th>\n",
       "      <th>AVGDAYSBETWEENORDERS</th>\n",
       "      <th>Number_year_customer</th>\n",
       "      <th>Cluster</th>\n",
       "    </tr>\n",
       "  </thead>\n",
       "  <tbody>\n",
       "    <tr>\n",
       "      <th>6</th>\n",
       "      <td>43</td>\n",
       "      <td>5470.27</td>\n",
       "      <td>127.22</td>\n",
       "      <td>128.77</td>\n",
       "      <td>2.99</td>\n",
       "      <td>23.58</td>\n",
       "      <td>2</td>\n",
       "      <td>1</td>\n",
       "    </tr>\n",
       "    <tr>\n",
       "      <th>8</th>\n",
       "      <td>19</td>\n",
       "      <td>4967.06</td>\n",
       "      <td>261.42</td>\n",
       "      <td>51.91</td>\n",
       "      <td>2.73</td>\n",
       "      <td>12.37</td>\n",
       "      <td>0</td>\n",
       "      <td>1</td>\n",
       "    </tr>\n",
       "    <tr>\n",
       "      <th>9</th>\n",
       "      <td>21</td>\n",
       "      <td>4726.38</td>\n",
       "      <td>225.07</td>\n",
       "      <td>63.88</td>\n",
       "      <td>3.04</td>\n",
       "      <td>31.29</td>\n",
       "      <td>1</td>\n",
       "      <td>1</td>\n",
       "    </tr>\n",
       "    <tr>\n",
       "      <th>10</th>\n",
       "      <td>37</td>\n",
       "      <td>3934.05</td>\n",
       "      <td>106.33</td>\n",
       "      <td>162.50</td>\n",
       "      <td>4.39</td>\n",
       "      <td>70.59</td>\n",
       "      <td>7</td>\n",
       "      <td>1</td>\n",
       "    </tr>\n",
       "    <tr>\n",
       "      <th>11</th>\n",
       "      <td>20</td>\n",
       "      <td>3933.82</td>\n",
       "      <td>196.69</td>\n",
       "      <td>74.87</td>\n",
       "      <td>3.74</td>\n",
       "      <td>111.55</td>\n",
       "      <td>6</td>\n",
       "      <td>1</td>\n",
       "    </tr>\n",
       "  </tbody>\n",
       "</table>\n",
       "</div>"
      ],
      "text/plain": [
       "    TOTAL_ORDERS  REVENUE  AVERAGE_ORDER_VALUE  CARRIAGE_REVENUE  \\\n",
       "6             43  5470.27               127.22            128.77   \n",
       "8             19  4967.06               261.42             51.91   \n",
       "9             21  4726.38               225.07             63.88   \n",
       "10            37  3934.05               106.33            162.50   \n",
       "11            20  3933.82               196.69             74.87   \n",
       "\n",
       "    AVERAGESHIPPING  AVGDAYSBETWEENORDERS  Number_year_customer  Cluster  \n",
       "6              2.99                 23.58                     2        1  \n",
       "8              2.73                 12.37                     0        1  \n",
       "9              3.04                 31.29                     1        1  \n",
       "10             4.39                 70.59                     7        1  \n",
       "11             3.74                111.55                     6        1  "
      ]
     },
     "execution_count": 284,
     "metadata": {},
     "output_type": "execute_result"
    }
   ],
   "source": [
    "columns_for_clustering = ['TOTAL_ORDERS', 'REVENUE', 'AVERAGE_ORDER_VALUE', 'CARRIAGE_REVENUE',\n",
    "                          'AVERAGESHIPPING', 'AVGDAYSBETWEENORDERS', 'Number_year_customer']\n",
    "\n",
    "k = 3  # Number of clusters\n",
    "kmeans = KMeans(n_clusters=k)\n",
    "kmeans.fit(df[columns_for_clustering])\n",
    "\n",
    "# Add cluster labels to the data frame\n",
    "df['Cluster'] = kmeans.labels_\n",
    "\n",
    "# Print the resulting data frame with cluster labels\n",
    "df.head()"
   ]
  },
  {
   "cell_type": "code",
   "execution_count": 285,
   "id": "2f28823c",
   "metadata": {},
   "outputs": [
    {
     "data": {
      "text/html": [
       "<div>\n",
       "<style scoped>\n",
       "    .dataframe tbody tr th:only-of-type {\n",
       "        vertical-align: middle;\n",
       "    }\n",
       "\n",
       "    .dataframe tbody tr th {\n",
       "        vertical-align: top;\n",
       "    }\n",
       "\n",
       "    .dataframe thead th {\n",
       "        text-align: right;\n",
       "    }\n",
       "</style>\n",
       "<table border=\"1\" class=\"dataframe\">\n",
       "  <thead>\n",
       "    <tr style=\"text-align: right;\">\n",
       "      <th></th>\n",
       "      <th>principal component 1</th>\n",
       "      <th>principal component 2</th>\n",
       "      <th>principal component 3</th>\n",
       "    </tr>\n",
       "  </thead>\n",
       "  <tbody>\n",
       "    <tr>\n",
       "      <th>0</th>\n",
       "      <td>3967.369080</td>\n",
       "      <td>-20.267104</td>\n",
       "      <td>-42.062834</td>\n",
       "    </tr>\n",
       "    <tr>\n",
       "      <th>1</th>\n",
       "      <td>3464.522869</td>\n",
       "      <td>-28.830491</td>\n",
       "      <td>115.415458</td>\n",
       "    </tr>\n",
       "    <tr>\n",
       "      <th>2</th>\n",
       "      <td>3223.520639</td>\n",
       "      <td>-14.109547</td>\n",
       "      <td>77.471245</td>\n",
       "    </tr>\n",
       "    <tr>\n",
       "      <th>3</th>\n",
       "      <td>2431.698451</td>\n",
       "      <td>7.861248</td>\n",
       "      <td>-68.876057</td>\n",
       "    </tr>\n",
       "    <tr>\n",
       "      <th>4</th>\n",
       "      <td>2430.334268</td>\n",
       "      <td>56.267222</td>\n",
       "      <td>47.144813</td>\n",
       "    </tr>\n",
       "  </tbody>\n",
       "</table>\n",
       "</div>"
      ],
      "text/plain": [
       "   principal component 1  principal component 2  principal component 3\n",
       "0            3967.369080             -20.267104             -42.062834\n",
       "1            3464.522869             -28.830491             115.415458\n",
       "2            3223.520639             -14.109547              77.471245\n",
       "3            2431.698451               7.861248             -68.876057\n",
       "4            2430.334268              56.267222              47.144813"
      ]
     },
     "execution_count": 285,
     "metadata": {},
     "output_type": "execute_result"
    }
   ],
   "source": [
    "from sklearn.decomposition import PCA\n",
    "pca = PCA(n_components=3)\n",
    "principalComponents = pca.fit_transform(df)\n",
    "pca_df = pd.DataFrame(data = principalComponents\n",
    "             , columns = ['principal component 1', 'principal component 2',\"principal component 3\"])\n",
    "pca_df.head()"
   ]
  },
  {
   "cell_type": "code",
   "execution_count": 286,
   "id": "6e7c0071",
   "metadata": {},
   "outputs": [],
   "source": [
    "K=range(2,12)\n",
    "wss = []\n",
    "for k in K:\n",
    "    kmeans=cluster.KMeans(n_clusters=k)\n",
    "    kmeans=kmeans.fit(pca_df)\n",
    "    wss_iter = kmeans.inertia_\n",
    "    wss.append(wss_iter)"
   ]
  },
  {
   "cell_type": "code",
   "execution_count": 287,
   "id": "9c02070f",
   "metadata": {},
   "outputs": [
    {
     "data": {
      "image/png": "[encoded data removed]",
      "text/plain": [
       "<Figure size 640x480 with 1 Axes>"
      ]
     },
     "metadata": {},
     "output_type": "display_data"
    }
   ],
   "source": [
    "plt.xlabel('K')\n",
    "plt.ylabel('Within-Cluster-Sum of Squared Errors (WSS)')\n",
    "plt.plot(K,wss)\n",
    "plt.show()"
   ]
  },
  {
   "cell_type": "code",
   "execution_count": null,
   "id": "b3bb5c53",
   "metadata": {},
   "outputs": [],
   "source": []
  },
  {
   "cell_type": "code",
   "execution_count": 288,
   "id": "9b9fa4c5",
   "metadata": {},
   "outputs": [
    {
     "name": "stdout",
     "output_type": "stream",
     "text": [
      "    TOTAL_ORDERS  REVENUE  AVERAGE_ORDER_VALUE  CARRIAGE_REVENUE  \\\n",
      "6             43  5470.27               127.22            128.77   \n",
      "8             19  4967.06               261.42             51.91   \n",
      "9             21  4726.38               225.07             63.88   \n",
      "10            37  3934.05               106.33            162.50   \n",
      "11            20  3933.82               196.69             74.87   \n",
      "\n",
      "    AVERAGESHIPPING  AVGDAYSBETWEENORDERS  Number_year_customer  Cluster  \n",
      "6              2.99                 23.58                     2       -1  \n",
      "8              2.73                 12.37                     0       -1  \n",
      "9              3.04                 31.29                     1       -1  \n",
      "10             4.39                 70.59                     7       -1  \n",
      "11             3.74                111.55                     6       -1  \n"
     ]
    },
    {
     "name": "stderr",
     "output_type": "stream",
     "text": [
      "C:\\Users\\Vaidees\\AppData\\Local\\Temp\\ipykernel_16068\\4140702422.py:21: SettingWithCopyWarning: \n",
      "A value is trying to be set on a copy of a slice from a DataFrame.\n",
      "Try using .loc[row_indexer,col_indexer] = value instead\n",
      "\n",
      "See the caveats in the documentation: https://pandas.pydata.org/pandas-docs/stable/user_guide/indexing.html#returning-a-view-versus-a-copy\n",
      "  df['Cluster'] = dbscan.labels_\n"
     ]
    }
   ],
   "source": [
    "import pandas as pd\n",
    "from sklearn.cluster import DBSCAN\n",
    "from sklearn.preprocessing import StandardScaler\n",
    "\n",
    "\n",
    "# Select the numerical columns for clustering\n",
    "columns_for_clustering = ['TOTAL_ORDERS', 'REVENUE', 'AVERAGE_ORDER_VALUE', 'CARRIAGE_REVENUE',\n",
    "                          'AVERAGESHIPPING', 'AVGDAYSBETWEENORDERS', 'Number_year_customer']\n",
    "\n",
    "# Perform feature scaling\n",
    "scaler = StandardScaler()\n",
    "scaled_data = scaler.fit_transform(df[columns_for_clustering])\n",
    "\n",
    "# Apply DBSCAN\n",
    "eps = 0.3  # Maximum distance between samples to be considered in the same neighborhood\n",
    "min_samples = 2  # Minimum number of samples required to form a dense region\n",
    "dbscan = DBSCAN(eps=eps, min_samples=min_samples)\n",
    "dbscan.fit(scaled_data)\n",
    "\n",
    "# Add cluster labels to the data frame\n",
    "df['Cluster'] = dbscan.labels_\n",
    "\n",
    "# Print the resulting data frame with cluster labels\n",
    "print(df.head())\n"
   ]
  },
  {
   "cell_type": "code",
   "execution_count": null,
   "id": "59e8c2d8",
   "metadata": {},
   "outputs": [],
   "source": []
  },
  {
   "cell_type": "code",
   "execution_count": null,
   "id": "290ef0a6",
   "metadata": {},
   "outputs": [],
   "source": []
  },
  {
   "cell_type": "code",
   "execution_count": null,
   "id": "9ce6c41d",
   "metadata": {},
   "outputs": [],
   "source": []
  },
  {
   "cell_type": "code",
   "execution_count": null,
   "id": "f21b9e3c",
   "metadata": {},
   "outputs": [],
   "source": []
  },
  {
   "cell_type": "code",
   "execution_count": null,
   "id": "dd0aa597",
   "metadata": {},
   "outputs": [],
   "source": []
  }
 ],
 "metadata": {
  "kernelspec": {
   "display_name": "Python 3 (ipykernel)",
   "language": "python",
   "name": "python3"
  },
  "language_info": {
   "codemirror_mode": {
    "name": "ipython",
    "version": 3
   },
   "file_extension": ".py",
   "mimetype": "text/x-python",
   "name": "python",
   "nbconvert_exporter": "python",
   "pygments_lexer": "ipython3",
   "version": "3.9.13"
  }
 },
 "nbformat": 4,
 "nbformat_minor": 5
}
