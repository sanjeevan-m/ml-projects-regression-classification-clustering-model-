{
 "cells": [
  {
   "cell_type": "code",
   "execution_count": 82,
   "id": "b3f7a122",
   "metadata": {},
   "outputs": [],
   "source": [
    "import pandas as pd\n",
    "import numpy as np\n",
    "import warnings\n",
    "import seaborn as sns\n",
    "import matplotlib.pyplot as plt\n",
    "import warnings\n",
    "warnings.filterwarnings(\"ignore\", category=FutureWarning)\n"
   ]
  },
  {
   "cell_type": "code",
   "execution_count": 83,
   "id": "89f612dd",
   "metadata": {},
   "outputs": [
    {
     "name": "stdout",
     "output_type": "stream",
     "text": [
      "(100000, 9)\n"
     ]
    },
    {
     "data": {
      "text/html": [
       "<div>\n",
       "<style scoped>\n",
       "    .dataframe tbody tr th:only-of-type {\n",
       "        vertical-align: middle;\n",
       "    }\n",
       "\n",
       "    .dataframe tbody tr th {\n",
       "        vertical-align: top;\n",
       "    }\n",
       "\n",
       "    .dataframe thead th {\n",
       "        text-align: right;\n",
       "    }\n",
       "</style>\n",
       "<table border=\"1\" class=\"dataframe\">\n",
       "  <thead>\n",
       "    <tr style=\"text-align: right;\">\n",
       "      <th></th>\n",
       "      <th>gender</th>\n",
       "      <th>age</th>\n",
       "      <th>hypertension</th>\n",
       "      <th>heart_disease</th>\n",
       "      <th>smoking_history</th>\n",
       "      <th>bmi</th>\n",
       "      <th>HbA1c_level</th>\n",
       "      <th>blood_glucose_level</th>\n",
       "      <th>diabetes</th>\n",
       "    </tr>\n",
       "  </thead>\n",
       "  <tbody>\n",
       "    <tr>\n",
       "      <th>0</th>\n",
       "      <td>Female</td>\n",
       "      <td>80.0</td>\n",
       "      <td>0</td>\n",
       "      <td>1</td>\n",
       "      <td>never</td>\n",
       "      <td>25.19</td>\n",
       "      <td>6.6</td>\n",
       "      <td>140</td>\n",
       "      <td>0</td>\n",
       "    </tr>\n",
       "    <tr>\n",
       "      <th>1</th>\n",
       "      <td>Female</td>\n",
       "      <td>54.0</td>\n",
       "      <td>0</td>\n",
       "      <td>0</td>\n",
       "      <td>No Info</td>\n",
       "      <td>27.32</td>\n",
       "      <td>6.6</td>\n",
       "      <td>80</td>\n",
       "      <td>0</td>\n",
       "    </tr>\n",
       "    <tr>\n",
       "      <th>2</th>\n",
       "      <td>Male</td>\n",
       "      <td>28.0</td>\n",
       "      <td>0</td>\n",
       "      <td>0</td>\n",
       "      <td>never</td>\n",
       "      <td>27.32</td>\n",
       "      <td>5.7</td>\n",
       "      <td>158</td>\n",
       "      <td>0</td>\n",
       "    </tr>\n",
       "    <tr>\n",
       "      <th>3</th>\n",
       "      <td>Female</td>\n",
       "      <td>36.0</td>\n",
       "      <td>0</td>\n",
       "      <td>0</td>\n",
       "      <td>current</td>\n",
       "      <td>23.45</td>\n",
       "      <td>5.0</td>\n",
       "      <td>155</td>\n",
       "      <td>0</td>\n",
       "    </tr>\n",
       "    <tr>\n",
       "      <th>4</th>\n",
       "      <td>Male</td>\n",
       "      <td>76.0</td>\n",
       "      <td>1</td>\n",
       "      <td>1</td>\n",
       "      <td>current</td>\n",
       "      <td>20.14</td>\n",
       "      <td>4.8</td>\n",
       "      <td>155</td>\n",
       "      <td>0</td>\n",
       "    </tr>\n",
       "  </tbody>\n",
       "</table>\n",
       "</div>"
      ],
      "text/plain": [
       "   gender   age  hypertension  heart_disease smoking_history    bmi  \\\n",
       "0  Female  80.0             0              1           never  25.19   \n",
       "1  Female  54.0             0              0         No Info  27.32   \n",
       "2    Male  28.0             0              0           never  27.32   \n",
       "3  Female  36.0             0              0         current  23.45   \n",
       "4    Male  76.0             1              1         current  20.14   \n",
       "\n",
       "   HbA1c_level  blood_glucose_level  diabetes  \n",
       "0          6.6                  140         0  \n",
       "1          6.6                   80         0  \n",
       "2          5.7                  158         0  \n",
       "3          5.0                  155         0  \n",
       "4          4.8                  155         0  "
      ]
     },
     "execution_count": 83,
     "metadata": {},
     "output_type": "execute_result"
    }
   ],
   "source": [
    "data=pd.read_csv('diabetes_prediction_dataset.csv')\n",
    "shape=data.shape\n",
    "print(shape)\n",
    "data.head()"
   ]
  },
  {
   "cell_type": "code",
   "execution_count": 84,
   "id": "75fa4c94",
   "metadata": {},
   "outputs": [
    {
     "name": "stdout",
     "output_type": "stream",
     "text": [
      "(96146, 9)\n"
     ]
    }
   ],
   "source": [
    "data = data.drop_duplicates()\n",
    "print(data.shape)"
   ]
  },
  {
   "cell_type": "code",
   "execution_count": 85,
   "id": "5e9ac3f6",
   "metadata": {},
   "outputs": [
    {
     "data": {
      "text/plain": [
       "0    87664\n",
       "1     8482\n",
       "Name: diabetes, dtype: int64"
      ]
     },
     "execution_count": 85,
     "metadata": {},
     "output_type": "execute_result"
    }
   ],
   "source": [
    "data[\"diabetes\"].value_counts()"
   ]
  },
  {
   "cell_type": "code",
   "execution_count": 86,
   "id": "38416c78",
   "metadata": {},
   "outputs": [],
   "source": [
    "data.drop([\"smoking_history\",\"gender\"],axis=1,inplace=True)"
   ]
  },
  {
   "cell_type": "code",
   "execution_count": 87,
   "id": "4804c9fe",
   "metadata": {},
   "outputs": [
    {
     "data": {
      "text/plain": [
       "age                    0\n",
       "hypertension           0\n",
       "heart_disease          0\n",
       "bmi                    0\n",
       "HbA1c_level            0\n",
       "blood_glucose_level    0\n",
       "diabetes               0\n",
       "dtype: int64"
      ]
     },
     "execution_count": 87,
     "metadata": {},
     "output_type": "execute_result"
    }
   ],
   "source": [
    "data.isnull().sum()"
   ]
  },
  {
   "cell_type": "code",
   "execution_count": 88,
   "id": "cee878c9",
   "metadata": {},
   "outputs": [
    {
     "data": {
      "text/plain": [
       "(175328, 7)"
      ]
     },
     "execution_count": 88,
     "metadata": {},
     "output_type": "execute_result"
    }
   ],
   "source": [
    "import pandas as pd\n",
    "from imblearn.over_sampling import SMOTE\n",
    "\n",
    "# Assuming you have your DataFrame named 'df'\n",
    "\n",
    "X = data.drop('diabetes', axis=1)\n",
    "y = data['diabetes']\n",
    "\n",
    "# Apply SMOTE oversampling\n",
    "smote = SMOTE()\n",
    "X_resampled, y_resampled = smote.fit_resample(X, y)\n",
    "\n",
    "# Create a DataFrame with the oversampled data\n",
    "oversampled_df = pd.concat([pd.DataFrame(X_resampled), pd.DataFrame(y_resampled, columns=['diabetes'])], axis=1)\n",
    "oversampled_df.shape"
   ]
  },
  {
   "cell_type": "code",
   "execution_count": 89,
   "id": "4c4263eb",
   "metadata": {},
   "outputs": [
    {
     "data": {
      "text/plain": [
       "0    87664\n",
       "1    87664\n",
       "Name: diabetes, dtype: int64"
      ]
     },
     "execution_count": 89,
     "metadata": {},
     "output_type": "execute_result"
    }
   ],
   "source": [
    "oversampled_df[\"diabetes\"].value_counts()"
   ]
  },
  {
   "cell_type": "code",
   "execution_count": 90,
   "id": "b622f955",
   "metadata": {},
   "outputs": [
    {
     "data": {
      "text/html": [
       "<div>\n",
       "<style scoped>\n",
       "    .dataframe tbody tr th:only-of-type {\n",
       "        vertical-align: middle;\n",
       "    }\n",
       "\n",
       "    .dataframe tbody tr th {\n",
       "        vertical-align: top;\n",
       "    }\n",
       "\n",
       "    .dataframe thead th {\n",
       "        text-align: right;\n",
       "    }\n",
       "</style>\n",
       "<table border=\"1\" class=\"dataframe\">\n",
       "  <thead>\n",
       "    <tr style=\"text-align: right;\">\n",
       "      <th></th>\n",
       "      <th>age</th>\n",
       "      <th>hypertension</th>\n",
       "      <th>heart_disease</th>\n",
       "      <th>bmi</th>\n",
       "      <th>HbA1c_level</th>\n",
       "      <th>blood_glucose_level</th>\n",
       "      <th>diabetes</th>\n",
       "    </tr>\n",
       "  </thead>\n",
       "  <tbody>\n",
       "    <tr>\n",
       "      <th>0</th>\n",
       "      <td>80.0</td>\n",
       "      <td>0</td>\n",
       "      <td>1</td>\n",
       "      <td>25.19</td>\n",
       "      <td>6.6</td>\n",
       "      <td>140</td>\n",
       "      <td>0</td>\n",
       "    </tr>\n",
       "    <tr>\n",
       "      <th>1</th>\n",
       "      <td>54.0</td>\n",
       "      <td>0</td>\n",
       "      <td>0</td>\n",
       "      <td>27.32</td>\n",
       "      <td>6.6</td>\n",
       "      <td>80</td>\n",
       "      <td>0</td>\n",
       "    </tr>\n",
       "    <tr>\n",
       "      <th>2</th>\n",
       "      <td>28.0</td>\n",
       "      <td>0</td>\n",
       "      <td>0</td>\n",
       "      <td>27.32</td>\n",
       "      <td>5.7</td>\n",
       "      <td>158</td>\n",
       "      <td>0</td>\n",
       "    </tr>\n",
       "    <tr>\n",
       "      <th>3</th>\n",
       "      <td>36.0</td>\n",
       "      <td>0</td>\n",
       "      <td>0</td>\n",
       "      <td>23.45</td>\n",
       "      <td>5.0</td>\n",
       "      <td>155</td>\n",
       "      <td>0</td>\n",
       "    </tr>\n",
       "    <tr>\n",
       "      <th>4</th>\n",
       "      <td>76.0</td>\n",
       "      <td>1</td>\n",
       "      <td>1</td>\n",
       "      <td>20.14</td>\n",
       "      <td>4.8</td>\n",
       "      <td>155</td>\n",
       "      <td>0</td>\n",
       "    </tr>\n",
       "  </tbody>\n",
       "</table>\n",
       "</div>"
      ],
      "text/plain": [
       "    age  hypertension  heart_disease    bmi  HbA1c_level  blood_glucose_level  \\\n",
       "0  80.0             0              1  25.19          6.6                  140   \n",
       "1  54.0             0              0  27.32          6.6                   80   \n",
       "2  28.0             0              0  27.32          5.7                  158   \n",
       "3  36.0             0              0  23.45          5.0                  155   \n",
       "4  76.0             1              1  20.14          4.8                  155   \n",
       "\n",
       "   diabetes  \n",
       "0         0  \n",
       "1         0  \n",
       "2         0  \n",
       "3         0  \n",
       "4         0  "
      ]
     },
     "execution_count": 90,
     "metadata": {},
     "output_type": "execute_result"
    }
   ],
   "source": [
    "oversampled_df.head()"
   ]
  },
  {
   "cell_type": "code",
   "execution_count": 91,
   "id": "7b942ddc",
   "metadata": {},
   "outputs": [],
   "source": [
    "X = oversampled_df.drop('diabetes', axis=1).values\n",
    "y = oversampled_df['diabetes'].values\n",
    "\n",
    "y = np.ravel(y)"
   ]
  },
  {
   "cell_type": "code",
   "execution_count": 92,
   "id": "62b6f084",
   "metadata": {},
   "outputs": [
    {
     "name": "stdout",
     "output_type": "stream",
     "text": [
      "Train set shape: (126235, 6) (126235,)\n",
      "Validation set shape: (14027, 6) (14027,)\n",
      "Test set shape: (35066, 6) (35066,)\n"
     ]
    }
   ],
   "source": [
    "import pandas as pd\n",
    "from sklearn.model_selection import train_test_split\n",
    "\n",
    "X_train, X_test, y_train, y_test = train_test_split(X, y, test_size=0.2, random_state=42)\n",
    "\n",
    "# Split the train set into train and validation sets\n",
    "X_train, X_val, y_train, y_val = train_test_split(X_train, y_train, test_size=0.1, random_state=42)\n",
    "\n",
    "# Print the shapes of the resulting datasets\n",
    "print(\"Train set shape:\", X_train.shape, y_train.shape)\n",
    "print(\"Validation set shape:\", X_val.shape, y_val.shape)\n",
    "print(\"Test set shape:\", X_test.shape, y_test.shape)\n"
   ]
  },
  {
   "cell_type": "code",
   "execution_count": 93,
   "id": "c9c6fbec",
   "metadata": {},
   "outputs": [],
   "source": [
    "from sklearn.model_selection import train_test_split, cross_val_score\n",
    "from sklearn.linear_model import LogisticRegression\n",
    "from sklearn.metrics import accuracy_score, confusion_matrix, classification_report, roc_curve, auc\n",
    "import matplotlib.pyplot as plt"
   ]
  },
  {
   "cell_type": "code",
   "execution_count": 94,
   "id": "3a21a25e",
   "metadata": {},
   "outputs": [],
   "source": [
    "# Perform logistic regression with cross-validation\n",
    "logreg = LogisticRegression()\n",
    "logreg = LogisticRegression(max_iter=1000)\n",
    "cv_scores = cross_val_score(logreg, X_train, y_train, cv=5)"
   ]
  },
  {
   "cell_type": "code",
   "execution_count": 95,
   "id": "8e52c9f6",
   "metadata": {},
   "outputs": [
    {
     "data": {
      "text/plain": [
       "LogisticRegression(max_iter=1000)"
      ]
     },
     "execution_count": 95,
     "metadata": {},
     "output_type": "execute_result"
    }
   ],
   "source": [
    "logreg.fit(X_train, y_train)"
   ]
  },
  {
   "cell_type": "code",
   "execution_count": 96,
   "id": "352b3240",
   "metadata": {},
   "outputs": [],
   "source": [
    "# Predict on the validation and test sets\n",
    "y_val_pred = logreg.predict(X_val)\n",
    "y_test_pred = logreg.predict(X_test)"
   ]
  },
  {
   "cell_type": "code",
   "execution_count": 97,
   "id": "d292e558",
   "metadata": {},
   "outputs": [],
   "source": [
    "\n",
    "# Evaluate performance on validation set\n",
    "accuracy_val = accuracy_score(y_val, y_val_pred)\n",
    "confusion_matrix_val = confusion_matrix(y_val, y_val_pred)\n",
    "classification_report_val = classification_report(y_val, y_val_pred)"
   ]
  },
  {
   "cell_type": "code",
   "execution_count": 98,
   "id": "094f319d",
   "metadata": {},
   "outputs": [],
   "source": [
    "# Evaluate performance on test set\n",
    "accuracy_test = accuracy_score(y_test, y_test_pred)\n",
    "confusion_matrix_test = confusion_matrix(y_test, y_test_pred)\n",
    "classification_report_test = classification_report(y_test, y_test_pred)\n"
   ]
  },
  {
   "cell_type": "code",
   "execution_count": 99,
   "id": "ee05a5f1",
   "metadata": {},
   "outputs": [],
   "source": [
    "# Calculate ROC curve and AUC\n",
    "y_scores = logreg.predict_proba(X_test)[:, 1]\n",
    "fpr, tpr, thresholds = roc_curve(y_test, y_scores)\n",
    "roc_auc = auc(fpr, tpr)"
   ]
  },
  {
   "cell_type": "code",
   "execution_count": 100,
   "id": "5cad88be",
   "metadata": {},
   "outputs": [
    {
     "name": "stdout",
     "output_type": "stream",
     "text": [
      "Validation Accuracy: 0.8813003493262993\n",
      "Validation Confusion Matrix:\n",
      " [[6111  844]\n",
      " [ 821 6251]]\n",
      "Validation Classification Report:\n",
      "               precision    recall  f1-score   support\n",
      "\n",
      "           0       0.88      0.88      0.88      6955\n",
      "           1       0.88      0.88      0.88      7072\n",
      "\n",
      "    accuracy                           0.88     14027\n",
      "   macro avg       0.88      0.88      0.88     14027\n",
      "weighted avg       0.88      0.88      0.88     14027\n",
      "\n",
      "Test Accuracy: 0.8856442137683226\n",
      "Test Confusion Matrix:\n",
      " [[15428  2011]\n",
      " [ 1999 15628]]\n",
      "Test Classification Report:\n",
      "               precision    recall  f1-score   support\n",
      "\n",
      "           0       0.89      0.88      0.88     17439\n",
      "           1       0.89      0.89      0.89     17627\n",
      "\n",
      "    accuracy                           0.89     35066\n",
      "   macro avg       0.89      0.89      0.89     35066\n",
      "weighted avg       0.89      0.89      0.89     35066\n",
      "\n",
      "AUC: 0.962652920974541\n",
      "Mean CV Accuracy: 0.8841050421832298\n"
     ]
    }
   ],
   "source": [
    "# Print evaluation metrics\n",
    "print(\"Validation Accuracy:\", accuracy_val)\n",
    "print(\"Validation Confusion Matrix:\\n\", confusion_matrix_val)\n",
    "print(\"Validation Classification Report:\\n\", classification_report_val)\n",
    "print(\"Test Accuracy:\", accuracy_test)\n",
    "print(\"Test Confusion Matrix:\\n\", confusion_matrix_test)\n",
    "print(\"Test Classification Report:\\n\", classification_report_test)\n",
    "print(\"AUC:\", roc_auc)\n",
    "print(\"Mean CV Accuracy:\", np.mean(cv_scores))"
   ]
  },
  {
   "cell_type": "code",
   "execution_count": 101,
   "id": "455c6cc8",
   "metadata": {},
   "outputs": [
    {
     "name": "stdout",
     "output_type": "stream",
     "text": [
      "AUC - Test: 0.8856390919017094\n",
      "AUC - Validation: 0.8812784126950564\n"
     ]
    }
   ],
   "source": [
    "from sklearn.metrics import roc_auc_score\n",
    "\n",
    "# Assuming you have the predictions for each set: y_test_pred, y_val_pred, y_train_pred\n",
    "# Calculate AUC for test set\n",
    "auc_test = roc_auc_score(y_test, y_test_pred)\n",
    "\n",
    "# Calculate AUC for validation set\n",
    "auc_val = roc_auc_score(y_val, y_val_pred)\n",
    "\n",
    "# Calculate AUC for cross-validation predictions\n",
    "\n",
    "# Print AUC values\n",
    "print(\"AUC - Test:\", auc_test)\n",
    "print(\"AUC - Validation:\", auc_val)\n",
    "\n"
   ]
  },
  {
   "cell_type": "code",
   "execution_count": 102,
   "id": "7bdd0f6d",
   "metadata": {},
   "outputs": [
    {
     "data": {
      "image/png": "[encoded data removed]",
      "text/plain": [
       "<Figure size 640x480 with 1 Axes>"
      ]
     },
     "metadata": {},
     "output_type": "display_data"
    }
   ],
   "source": [
    "plt.figure()\n",
    "plt.plot(fpr, tpr, label='ROC curve (area = %0.2f)' % roc_auc)\n",
    "plt.plot([0, 1], [0, 1], 'k--')\n",
    "plt.xlim([0.0, 1.0])\n",
    "plt.ylim([0.0, 1.05])\n",
    "plt.xlabel('False Positive Rate')\n",
    "plt.ylabel('True Positive Rate')\n",
    "plt.title('Receiver Operating Characteristic')\n",
    "plt.legend(loc=\"lower right\")\n",
    "plt.show()"
   ]
  },
  {
   "cell_type": "code",
   "execution_count": 103,
   "id": "ccb1031c",
   "metadata": {},
   "outputs": [],
   "source": [
    "from sklearn.neighbors import KNeighborsClassifier"
   ]
  },
  {
   "cell_type": "code",
   "execution_count": 104,
   "id": "548322fe",
   "metadata": {},
   "outputs": [],
   "source": [
    "knn = KNeighborsClassifier()\n",
    "cv_scores = cross_val_score(knn, X_train, y_train, cv=5, scoring='roc_auc')\n"
   ]
  },
  {
   "cell_type": "code",
   "execution_count": 105,
   "id": "e538c70c",
   "metadata": {},
   "outputs": [
    {
     "data": {
      "text/plain": [
       "KNeighborsClassifier()"
      ]
     },
     "execution_count": 105,
     "metadata": {},
     "output_type": "execute_result"
    }
   ],
   "source": [
    "knn.fit(X_train, y_train)"
   ]
  },
  {
   "cell_type": "code",
   "execution_count": 106,
   "id": "2fca0e78",
   "metadata": {},
   "outputs": [],
   "source": [
    "y_val_pred = knn.predict(X_val)\n",
    "y_test_pred = knn.predict(X_test)"
   ]
  },
  {
   "cell_type": "code",
   "execution_count": 107,
   "id": "b75a1d19",
   "metadata": {},
   "outputs": [],
   "source": [
    "# Evaluate performance on validation set\n",
    "accuracy_val = accuracy_score(y_val, y_val_pred)\n",
    "confusion_matrix_val = confusion_matrix(y_val, y_val_pred)\n",
    "classification_report_val = classification_report(y_val, y_val_pred)\n",
    "auc_val = roc_auc_score(y_val, y_val_pred)"
   ]
  },
  {
   "cell_type": "code",
   "execution_count": 108,
   "id": "5ffd5fca",
   "metadata": {},
   "outputs": [],
   "source": [
    "# Evaluate performance on test set\n",
    "accuracy_test = accuracy_score(y_test, y_test_pred)\n",
    "confusion_matrix_test = confusion_matrix(y_test, y_test_pred)\n",
    "classification_report_test = classification_report(y_test, y_test_pred)\n",
    "auc_test = roc_auc_score(y_test, y_test_pred)"
   ]
  },
  {
   "cell_type": "code",
   "execution_count": 109,
   "id": "9e0f4232",
   "metadata": {},
   "outputs": [
    {
     "name": "stdout",
     "output_type": "stream",
     "text": [
      "Validation Accuracy: 0.9317031439366935\n",
      "Validation Confusion Matrix:\n",
      " [[6269  686]\n",
      " [ 272 6800]]\n",
      "Validation Classification Report:\n",
      "               precision    recall  f1-score   support\n",
      "\n",
      "           0       0.96      0.90      0.93      6955\n",
      "           1       0.91      0.96      0.93      7072\n",
      "\n",
      "    accuracy                           0.93     14027\n",
      "   macro avg       0.93      0.93      0.93     14027\n",
      "weighted avg       0.93      0.93      0.93     14027\n",
      "\n",
      "Test Accuracy: 0.9331546227114584\n",
      "Test Confusion Matrix:\n",
      " [[15699  1740]\n",
      " [  604 17023]]\n",
      "Test Classification Report:\n",
      "               precision    recall  f1-score   support\n",
      "\n",
      "           0       0.96      0.90      0.93     17439\n",
      "           1       0.91      0.97      0.94     17627\n",
      "\n",
      "    accuracy                           0.93     35066\n",
      "   macro avg       0.94      0.93      0.93     35066\n",
      "weighted avg       0.93      0.93      0.93     35066\n",
      "\n",
      "Validation AUC: 0.931452192667146\n",
      "Mean CV AUC: 0.9737485411368564\n",
      "Test AUC: 0.9329790107135408\n"
     ]
    }
   ],
   "source": [
    "# Print evaluation metrics\n",
    "\n",
    "print(\"Validation Accuracy:\", accuracy_val)\n",
    "print(\"Validation Confusion Matrix:\\n\", confusion_matrix_val)\n",
    "print(\"Validation Classification Report:\\n\", classification_report_val)\n",
    "print(\"Test Accuracy:\", accuracy_test)\n",
    "print(\"Test Confusion Matrix:\\n\", confusion_matrix_test)\n",
    "print(\"Test Classification Report:\\n\", classification_report_test)\n",
    "\n",
    "print(\"Validation AUC:\", auc_val)\n",
    "print(\"Mean CV AUC:\", np.mean(cv_scores))\n",
    "print(\"Test AUC:\", auc_test)"
   ]
  },
  {
   "cell_type": "code",
   "execution_count": 110,
   "id": "de754c01",
   "metadata": {},
   "outputs": [
    {
     "data": {
      "image/png": "[encoded data removed]",
      "text/plain": [
       "<Figure size 640x480 with 1 Axes>"
      ]
     },
     "metadata": {},
     "output_type": "display_data"
    }
   ],
   "source": [
    "fpr, tpr, thresholds = roc_curve(y_test, knn.predict_proba(X_test)[:, 1])\n",
    "roc_auc = auc(fpr, tpr)\n",
    "\n",
    "plt.figure()\n",
    "plt.plot(fpr, tpr, label='ROC curve (area = %0.2f)' % roc_auc)\n",
    "plt.plot([0, 1], [0, 1], 'k--')\n",
    "plt.xlim([0.0, 1.0])\n",
    "plt.ylim([0.0, 1.05])\n",
    "plt.xlabel('False Positive Rate')\n",
    "plt.ylabel('True Positive Rate')\n",
    "plt.title('Receiver Operating Characteristic')\n",
    "plt.legend(loc=\"lower right\")\n",
    "plt.show()"
   ]
  },
  {
   "cell_type": "code",
   "execution_count": 113,
   "id": "3350388a",
   "metadata": {},
   "outputs": [
    {
     "name": "stdout",
     "output_type": "stream",
     "text": [
      "Cross-Validation AUC Scores: [0.92338248 0.930043   0.9258676  0.92584877 0.92989305]\n",
      "Validation Accuracy: 0.8408070150424182\n",
      "Validation Confusion Matrix:\n",
      " [[6069  886]\n",
      " [1347 5725]]\n",
      "Validation Classification Report:\n",
      "               precision    recall  f1-score   support\n",
      "\n",
      "           0       0.82      0.87      0.84      6955\n",
      "           1       0.87      0.81      0.84      7072\n",
      "\n",
      "    accuracy                           0.84     14027\n",
      "   macro avg       0.84      0.84      0.84     14027\n",
      "weighted avg       0.84      0.84      0.84     14027\n",
      "\n",
      "Test Accuracy: 0.8411281583300063\n",
      "Test Confusion Matrix:\n",
      " [[15262  2177]\n",
      " [ 3394 14233]]\n",
      "Test Classification Report:\n",
      "               precision    recall  f1-score   support\n",
      "\n",
      "           0       0.82      0.88      0.85     17439\n",
      "           1       0.87      0.81      0.84     17627\n",
      "\n",
      "    accuracy                           0.84     35066\n",
      "   macro avg       0.84      0.84      0.84     35066\n",
      "weighted avg       0.84      0.84      0.84     35066\n",
      "\n",
      "Test AUC: 0.8413096668108482\n",
      "Mean CV AUC: 0.9270069814451196\n",
      "Validation AUC: 0.841070088171861\n"
     ]
    },
    {
     "data": {
      "image/png": "[encoded data removed]",
      "text/plain": [
       "<Figure size 640x480 with 1 Axes>"
      ]
     },
     "metadata": {},
     "output_type": "display_data"
    }
   ],
   "source": [
    "import pandas as pd\n",
    "import numpy as np\n",
    "from sklearn.model_selection import train_test_split, cross_val_score\n",
    "from sklearn.naive_bayes import GaussianNB\n",
    "from sklearn.metrics import accuracy_score, confusion_matrix, classification_report, roc_auc_score, roc_curve, auc\n",
    "import matplotlib.pyplot as plt\n",
    "\n",
    "# Assuming you have your features in X and target variable in y\n",
    "\n",
    "# Split the data into train, test, and validation sets\n",
    "X_train, X_test, y_train, y_test = train_test_split(X, y, test_size=0.2, random_state=42)\n",
    "X_train, X_val, y_train, y_val = train_test_split(X_train, y_train, test_size=0.10, random_state=42)\n",
    "\n",
    "# Perform Naive Bayes classification with cross-validation\n",
    "nb = GaussianNB()\n",
    "cv_scores = cross_val_score(nb, X_train, y_train, cv=5, scoring='roc_auc')\n",
    "\n",
    "# Fit the model on the training set\n",
    "nb.fit(X_train, y_train)\n",
    "\n",
    "# Predict on the validation and test sets\n",
    "y_val_pred = nb.predict(X_val)\n",
    "y_test_pred = nb.predict(X_test)\n",
    "\n",
    "# Evaluate performance on validation set\n",
    "accuracy_val = accuracy_score(y_val, y_val_pred)\n",
    "confusion_matrix_val = confusion_matrix(y_val, y_val_pred)\n",
    "classification_report_val = classification_report(y_val, y_val_pred)\n",
    "auc_val = roc_auc_score(y_val, y_val_pred)\n",
    "\n",
    "# Evaluate performance on test set\n",
    "accuracy_test = accuracy_score(y_test, y_test_pred)\n",
    "confusion_matrix_test = confusion_matrix(y_test, y_test_pred)\n",
    "classification_report_test = classification_report(y_test, y_test_pred)\n",
    "auc_test = roc_auc_score(y_test, y_test_pred)\n",
    "\n",
    "# Print evaluation metrics\n",
    "print(\"Cross-Validation AUC Scores:\", cv_scores)\n",
    "\n",
    "print(\"Validation Accuracy:\", accuracy_val)\n",
    "print(\"Validation Confusion Matrix:\\n\", confusion_matrix_val)\n",
    "print(\"Validation Classification Report:\\n\", classification_report_val)\n",
    "\n",
    "print(\"Test Accuracy:\", accuracy_test)\n",
    "print(\"Test Confusion Matrix:\\n\", confusion_matrix_test)\n",
    "print(\"Test Classification Report:\\n\", classification_report_test)\n",
    "print(\"Test AUC:\", auc_test)\n",
    "print(\"Mean CV AUC:\", np.mean(cv_scores))\n",
    "print(\"Validation AUC:\", auc_val)\n",
    "\n",
    "# Plot ROC curve\n",
    "fpr, tpr, thresholds = roc_curve(y_test, nb.predict_proba(X_test)[:, 1])\n",
    "roc_auc = auc(fpr, tpr)\n",
    "\n",
    "plt.figure()\n",
    "plt.plot(fpr, tpr, label='ROC curve (area = %0.2f)' % roc_auc)\n",
    "plt.plot([0, 1], [0, 1], 'k--')\n",
    "plt.xlim([0.0, 1.0])\n",
    "plt.ylim([0.0, 1.05])\n",
    "plt.xlabel('False Positive Rate')\n",
    "plt.ylabel('True Positive Rate')\n",
    "plt.title('Receiver Operating Characteristic')\n",
    "plt.legend(loc=\"lower right\")\n",
    "plt.show()\n"
   ]
  },
  {
   "cell_type": "code",
   "execution_count": 115,
   "id": "0cb221e2",
   "metadata": {},
   "outputs": [
    {
     "name": "stdout",
     "output_type": "stream",
     "text": [
      "Cross-Validation AUC Scores: [0.89506547 0.89835508 0.89424672 0.89656284 0.89721557]\n",
      "Validation Accuracy: 0.8069437513367078\n",
      "Validation Confusion Matrix:\n",
      " [[5610 1345]\n",
      " [1363 5709]]\n",
      "Validation Classification Report:\n",
      "               precision    recall  f1-score   support\n",
      "\n",
      "           0       0.80      0.81      0.81      6955\n",
      "           1       0.81      0.81      0.81      7072\n",
      "\n",
      "    accuracy                           0.81     14027\n",
      "   macro avg       0.81      0.81      0.81     14027\n",
      "weighted avg       0.81      0.81      0.81     14027\n",
      "\n",
      "Test Accuracy: 0.8057662693207095\n",
      "Test Confusion Matrix:\n",
      " [[14217  3222]\n",
      " [ 3589 14038]]\n",
      "Test Classification Report:\n",
      "               precision    recall  f1-score   support\n",
      "\n",
      "           0       0.80      0.82      0.81     17439\n",
      "           1       0.81      0.80      0.80     17627\n",
      "\n",
      "    accuracy                           0.81     35066\n",
      "   macro avg       0.81      0.81      0.81     35066\n",
      "weighted avg       0.81      0.81      0.81     35066\n",
      "\n",
      "Test AUC: 0.8965983781904519\n",
      "Mean CV AUC: 0.8962891377812963\n",
      "Validation AUC: 0.8961033538975508\n"
     ]
    },
    {
     "data": {
      "image/png": "[encoded data removed]",
      "text/plain": [
       "<Figure size 640x480 with 1 Axes>"
      ]
     },
     "metadata": {},
     "output_type": "display_data"
    }
   ],
   "source": [
    "import pandas as pd\n",
    "import numpy as np\n",
    "from sklearn.model_selection import train_test_split, cross_val_score\n",
    "from sklearn.linear_model import ElasticNet\n",
    "from sklearn.metrics import accuracy_score, confusion_matrix, classification_report, roc_auc_score, roc_curve, auc\n",
    "import matplotlib.pyplot as plt\n",
    "\n",
    "# Assuming you have your features in X and target variable in y\n",
    "\n",
    "# Split the data into train, test, and validation sets\n",
    "X_train, X_test, y_train, y_test = train_test_split(X, y, test_size=0.2, random_state=42)\n",
    "X_train, X_val, y_train, y_val = train_test_split(X_train, y_train, test_size=0.10, random_state=42)\n",
    "\n",
    "# Perform Elastic Net classification with cross-validation\n",
    "alpha = 0.5  # Regularization parameter\n",
    "l1_ratio = 0.5  # Mixing parameter between L1 and L2 penalty\n",
    "enet = ElasticNet(alpha=alpha, l1_ratio=l1_ratio)\n",
    "cv_scores = cross_val_score(enet, X_train, y_train, cv=5, scoring='roc_auc')\n",
    "\n",
    "# Fit the model on the training set\n",
    "enet.fit(X_train, y_train)\n",
    "\n",
    "# Predict on the validation and test sets\n",
    "y_val_pred = enet.predict(X_val)\n",
    "y_test_pred = enet.predict(X_test)\n",
    "\n",
    "# Convert predicted probabilities to binary predictions\n",
    "y_val_pred_binary = np.where(y_val_pred >= 0.5, 1, 0)\n",
    "y_test_pred_binary = np.where(y_test_pred >= 0.5, 1, 0)\n",
    "\n",
    "# Evaluate performance on validation set\n",
    "accuracy_val = accuracy_score(y_val, y_val_pred_binary)\n",
    "confusion_matrix_val = confusion_matrix(y_val, y_val_pred_binary)\n",
    "classification_report_val = classification_report(y_val, y_val_pred_binary)\n",
    "auc_val = roc_auc_score(y_val, y_val_pred)\n",
    "\n",
    "# Evaluate performance on test set\n",
    "accuracy_test = accuracy_score(y_test, y_test_pred_binary)\n",
    "confusion_matrix_test = confusion_matrix(y_test, y_test_pred_binary)\n",
    "classification_report_test = classification_report(y_test, y_test_pred_binary)\n",
    "auc_test = roc_auc_score(y_test, y_test_pred)\n",
    "\n",
    "# Print evaluation metrics\n",
    "print(\"Cross-Validation AUC Scores:\", cv_scores)\n",
    "\n",
    "print(\"Validation Accuracy:\", accuracy_val)\n",
    "print(\"Validation Confusion Matrix:\\n\", confusion_matrix_val)\n",
    "print(\"Validation Classification Report:\\n\", classification_report_val)\n",
    "\n",
    "print(\"Test Accuracy:\", accuracy_test)\n",
    "print(\"Test Confusion Matrix:\\n\", confusion_matrix_test)\n",
    "print(\"Test Classification Report:\\n\", classification_report_test)\n",
    "print(\"Test AUC:\", auc_test)\n",
    "print(\"Mean CV AUC:\", np.mean(cv_scores))\n",
    "print(\"Validation AUC:\", auc_val)\n",
    "\n",
    "# Plot ROC curve\n",
    "fpr, tpr, thresholds = roc_curve(y_test, y_test_pred)\n",
    "roc_auc = auc(fpr, tpr)\n",
    "\n",
    "plt.figure()\n",
    "plt.plot(fpr, tpr, label='ROC curve (area = %0.2f)' % roc_auc)\n",
    "plt.plot([0, 1], [0, 1], 'k--')\n",
    "plt.xlim([0.0, 1.0])\n",
    "plt.ylim([0.0, 1.05])\n",
    "plt.xlabel('False Positive Rate')\n",
    "plt.ylabel('True Positive Rate')\n",
    "plt.title('Receiver Operating Characteristic')\n",
    "plt.legend(loc=\"lower right\")\n",
    "plt.show()\n"
   ]
  },
  {
   "cell_type": "code",
   "execution_count": 123,
   "id": "733e6bcc",
   "metadata": {},
   "outputs": [
    {
     "name": "stdout",
     "output_type": "stream",
     "text": [
      "Predicted Diabetes: 0\n"
     ]
    },
    {
     "name": "stderr",
     "output_type": "stream",
     "text": [
      "C:\\Users\\Vaidees\\anaconda3\\lib\\site-packages\\sklearn\\base.py:443: UserWarning: X has feature names, but ElasticNet was fitted without feature names\n",
      "  warnings.warn(\n"
     ]
    }
   ],
   "source": [
    "import pandas as pd\n",
    "import numpy as np\n",
    "from sklearn.linear_model import ElasticNet\n",
    "\n",
    "# Load and preprocess the new data\n",
    "new_data = pd.DataFrame({\n",
    "    'age': [65.0],\n",
    "    'hypertension': [1],\n",
    "    'heart_disease': [1],\n",
    "    'bmi': [30.5],\n",
    "    'HbA1c_level': [6.2],\n",
    "    'blood_glucose_level': [120]\n",
    "})\n",
    "\n",
    "# Use the trained Elastic Net model to make a prediction\n",
    "y_new_pred = enet.predict(new_data)\n",
    "\n",
    "\n",
    "# Convert the predicted values to 0 or 1\n",
    "y_new_pred_binary = np.round(y_new_pred).astype(int)\n",
    "\n",
    "# Print the predicted diabetes value\n",
    "print(\"Predicted Diabetes:\", y_new_pred_binary[0])\n"
   ]
  },
  {
   "cell_type": "code",
   "execution_count": null,
   "id": "803cfc33",
   "metadata": {},
   "outputs": [],
   "source": []
  }
 ],
 "metadata": {
  "kernelspec": {
   "display_name": "Python 3 (ipykernel)",
   "language": "python",
   "name": "python3"
  },
  "language_info": {
   "codemirror_mode": {
    "name": "ipython",
    "version": 3
   },
   "file_extension": ".py",
   "mimetype": "text/x-python",
   "name": "python",
   "nbconvert_exporter": "python",
   "pygments_lexer": "ipython3",
   "version": "3.9.13"
  }
 },
 "nbformat": 4,
 "nbformat_minor": 5
}
